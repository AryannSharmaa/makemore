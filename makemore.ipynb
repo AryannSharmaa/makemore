{
 "cells": [
  {
   "cell_type": "code",
   "execution_count": 3,
   "metadata": {},
   "outputs": [],
   "source": [
    "words=open('names.txt','r').read().splitlines()"
   ]
  },
  {
   "cell_type": "code",
   "execution_count": 471,
   "metadata": {},
   "outputs": [
    {
     "data": {
      "text/plain": [
       "['emma',\n",
       " 'olivia',\n",
       " 'ava',\n",
       " 'isabella',\n",
       " 'sophia',\n",
       " 'charlotte',\n",
       " 'mia',\n",
       " 'amelia',\n",
       " 'harper',\n",
       " 'evelyn']"
      ]
     },
     "execution_count": 471,
     "metadata": {},
     "output_type": "execute_result"
    }
   ],
   "source": [
    "words[:10]"
   ]
  },
  {
   "cell_type": "code",
   "execution_count": 5,
   "metadata": {},
   "outputs": [
    {
     "data": {
      "text/plain": [
       "15"
      ]
     },
     "execution_count": 5,
     "metadata": {},
     "output_type": "execute_result"
    }
   ],
   "source": [
    "max(len(w) for w in words)"
   ]
  },
  {
   "cell_type": "code",
   "execution_count": 6,
   "metadata": {},
   "outputs": [],
   "source": [
    "b={}\n",
    "for w in words:\n",
    "    w='.'+w+'.'\n",
    "    for ch1,ch2 in zip(w,w[1:]):\n",
    "        bigram=(ch1,ch2)\n",
    "        b[bigram]=b.get(bigram,0)+1"
   ]
  },
  {
   "cell_type": "code",
   "execution_count": 7,
   "metadata": {},
   "outputs": [
    {
     "data": {
      "text/plain": [
       "[(('n', '.'), 6763),\n",
       " (('a', '.'), 6640),\n",
       " (('a', 'n'), 5438),\n",
       " (('.', 'a'), 4410),\n",
       " (('e', '.'), 3983),\n",
       " (('a', 'r'), 3264),\n",
       " (('e', 'l'), 3248),\n",
       " (('r', 'i'), 3033),\n",
       " (('n', 'a'), 2977),\n",
       " (('.', 'k'), 2963),\n",
       " (('l', 'e'), 2921),\n",
       " (('e', 'n'), 2675),\n",
       " (('l', 'a'), 2623),\n",
       " (('m', 'a'), 2590),\n",
       " (('.', 'm'), 2538),\n",
       " (('a', 'l'), 2528),\n",
       " (('i', '.'), 2489),\n",
       " (('l', 'i'), 2480),\n",
       " (('i', 'a'), 2445),\n",
       " (('.', 'j'), 2422),\n",
       " (('o', 'n'), 2411),\n",
       " (('h', '.'), 2409),\n",
       " (('r', 'a'), 2356),\n",
       " (('a', 'h'), 2332),\n",
       " (('h', 'a'), 2244),\n",
       " (('y', 'a'), 2143),\n",
       " (('i', 'n'), 2126),\n",
       " (('.', 's'), 2055),\n",
       " (('a', 'y'), 2050),\n",
       " (('y', '.'), 2007),\n",
       " (('e', 'r'), 1958),\n",
       " (('n', 'n'), 1906),\n",
       " (('y', 'n'), 1826),\n",
       " (('k', 'a'), 1731),\n",
       " (('n', 'i'), 1725),\n",
       " (('r', 'e'), 1697),\n",
       " (('.', 'd'), 1690),\n",
       " (('i', 'e'), 1653),\n",
       " (('a', 'i'), 1650),\n",
       " (('.', 'r'), 1639),\n",
       " (('a', 'm'), 1634),\n",
       " (('l', 'y'), 1588),\n",
       " (('.', 'l'), 1572),\n",
       " (('.', 'c'), 1542),\n",
       " (('.', 'e'), 1531),\n",
       " (('j', 'a'), 1473),\n",
       " (('r', '.'), 1377),\n",
       " (('n', 'e'), 1359),\n",
       " (('l', 'l'), 1345),\n",
       " (('i', 'l'), 1345),\n",
       " (('i', 's'), 1316),\n",
       " (('l', '.'), 1314),\n",
       " (('.', 't'), 1308),\n",
       " (('.', 'b'), 1306),\n",
       " (('d', 'a'), 1303),\n",
       " (('s', 'h'), 1285),\n",
       " (('d', 'e'), 1283),\n",
       " (('e', 'e'), 1271),\n",
       " (('m', 'i'), 1256),\n",
       " (('s', 'a'), 1201),\n",
       " (('s', '.'), 1169),\n",
       " (('.', 'n'), 1146),\n",
       " (('a', 's'), 1118),\n",
       " (('y', 'l'), 1104),\n",
       " (('e', 'y'), 1070),\n",
       " (('o', 'r'), 1059),\n",
       " (('a', 'd'), 1042),\n",
       " (('t', 'a'), 1027),\n",
       " (('.', 'z'), 929),\n",
       " (('v', 'i'), 911),\n",
       " (('k', 'e'), 895),\n",
       " (('s', 'e'), 884),\n",
       " (('.', 'h'), 874),\n",
       " (('r', 'o'), 869),\n",
       " (('e', 's'), 861),\n",
       " (('z', 'a'), 860),\n",
       " (('o', '.'), 855),\n",
       " (('i', 'r'), 849),\n",
       " (('b', 'r'), 842),\n",
       " (('a', 'v'), 834),\n",
       " (('m', 'e'), 818),\n",
       " (('e', 'i'), 818),\n",
       " (('c', 'a'), 815),\n",
       " (('i', 'y'), 779),\n",
       " (('r', 'y'), 773),\n",
       " (('e', 'm'), 769),\n",
       " (('s', 't'), 765),\n",
       " (('h', 'i'), 729),\n",
       " (('t', 'e'), 716),\n",
       " (('n', 'd'), 704),\n",
       " (('l', 'o'), 692),\n",
       " (('a', 'e'), 692),\n",
       " (('a', 't'), 687),\n",
       " (('s', 'i'), 684),\n",
       " (('e', 'a'), 679),\n",
       " (('d', 'i'), 674),\n",
       " (('h', 'e'), 674),\n",
       " (('.', 'g'), 669),\n",
       " (('t', 'o'), 667),\n",
       " (('c', 'h'), 664),\n",
       " (('b', 'e'), 655),\n",
       " (('t', 'h'), 647),\n",
       " (('v', 'a'), 642),\n",
       " (('o', 'l'), 619),\n",
       " (('.', 'i'), 591),\n",
       " (('i', 'o'), 588),\n",
       " (('e', 't'), 580),\n",
       " (('v', 'e'), 568),\n",
       " (('a', 'k'), 568),\n",
       " (('a', 'a'), 556),\n",
       " (('c', 'e'), 551),\n",
       " (('a', 'b'), 541),\n",
       " (('i', 't'), 541),\n",
       " (('.', 'y'), 535),\n",
       " (('t', 'i'), 532),\n",
       " (('s', 'o'), 531),\n",
       " (('m', '.'), 516),\n",
       " (('d', '.'), 516),\n",
       " (('.', 'p'), 515),\n",
       " (('i', 'c'), 509),\n",
       " (('k', 'i'), 509),\n",
       " (('o', 's'), 504),\n",
       " (('n', 'o'), 496),\n",
       " (('t', '.'), 483),\n",
       " (('j', 'o'), 479),\n",
       " (('u', 's'), 474),\n",
       " (('a', 'c'), 470),\n",
       " (('n', 'y'), 465),\n",
       " (('e', 'v'), 463),\n",
       " (('s', 's'), 461),\n",
       " (('m', 'o'), 452),\n",
       " (('i', 'k'), 445),\n",
       " (('n', 't'), 443),\n",
       " (('i', 'd'), 440),\n",
       " (('j', 'e'), 440),\n",
       " (('a', 'z'), 435),\n",
       " (('i', 'g'), 428),\n",
       " (('i', 'm'), 427),\n",
       " (('r', 'r'), 425),\n",
       " (('d', 'r'), 424),\n",
       " (('.', 'f'), 417),\n",
       " (('u', 'r'), 414),\n",
       " (('r', 'l'), 413),\n",
       " (('y', 's'), 401),\n",
       " (('.', 'o'), 394),\n",
       " (('e', 'd'), 384),\n",
       " (('a', 'u'), 381),\n",
       " (('c', 'o'), 380),\n",
       " (('k', 'y'), 379),\n",
       " (('d', 'o'), 378),\n",
       " (('.', 'v'), 376),\n",
       " (('t', 't'), 374),\n",
       " (('z', 'e'), 373),\n",
       " (('z', 'i'), 364),\n",
       " (('k', '.'), 363),\n",
       " (('g', 'h'), 360),\n",
       " (('t', 'r'), 352),\n",
       " (('k', 'o'), 344),\n",
       " (('t', 'y'), 341),\n",
       " (('g', 'e'), 334),\n",
       " (('g', 'a'), 330),\n",
       " (('l', 'u'), 324),\n",
       " (('b', 'a'), 321),\n",
       " (('d', 'y'), 317),\n",
       " (('c', 'k'), 316),\n",
       " (('.', 'w'), 307),\n",
       " (('k', 'h'), 307),\n",
       " (('u', 'l'), 301),\n",
       " (('y', 'e'), 301),\n",
       " (('y', 'r'), 291),\n",
       " (('m', 'y'), 287),\n",
       " (('h', 'o'), 287),\n",
       " (('w', 'a'), 280),\n",
       " (('s', 'l'), 279),\n",
       " (('n', 's'), 278),\n",
       " (('i', 'z'), 277),\n",
       " (('u', 'n'), 275),\n",
       " (('o', 'u'), 275),\n",
       " (('n', 'g'), 273),\n",
       " (('y', 'd'), 272),\n",
       " (('c', 'i'), 271),\n",
       " (('y', 'o'), 271),\n",
       " (('i', 'v'), 269),\n",
       " (('e', 'o'), 269),\n",
       " (('o', 'm'), 261),\n",
       " (('r', 'u'), 252),\n",
       " (('f', 'a'), 242),\n",
       " (('b', 'i'), 217),\n",
       " (('s', 'y'), 215),\n",
       " (('n', 'c'), 213),\n",
       " (('h', 'y'), 213),\n",
       " (('p', 'a'), 209),\n",
       " (('r', 't'), 208),\n",
       " (('q', 'u'), 206),\n",
       " (('p', 'h'), 204),\n",
       " (('h', 'r'), 204),\n",
       " (('j', 'u'), 202),\n",
       " (('g', 'r'), 201),\n",
       " (('p', 'e'), 197),\n",
       " (('n', 'l'), 195),\n",
       " (('y', 'i'), 192),\n",
       " (('g', 'i'), 190),\n",
       " (('o', 'd'), 190),\n",
       " (('r', 's'), 190),\n",
       " (('r', 'd'), 187),\n",
       " (('h', 'l'), 185),\n",
       " (('s', 'u'), 185),\n",
       " (('a', 'x'), 182),\n",
       " (('e', 'z'), 181),\n",
       " (('e', 'k'), 178),\n",
       " (('o', 'v'), 176),\n",
       " (('a', 'j'), 175),\n",
       " (('o', 'h'), 171),\n",
       " (('u', 'e'), 169),\n",
       " (('m', 'm'), 168),\n",
       " (('a', 'g'), 168),\n",
       " (('h', 'u'), 166),\n",
       " (('x', '.'), 164),\n",
       " (('u', 'a'), 163),\n",
       " (('r', 'm'), 162),\n",
       " (('a', 'w'), 161),\n",
       " (('f', 'i'), 160),\n",
       " (('z', '.'), 160),\n",
       " (('u', '.'), 155),\n",
       " (('u', 'm'), 154),\n",
       " (('e', 'c'), 153),\n",
       " (('v', 'o'), 153),\n",
       " (('e', 'h'), 152),\n",
       " (('p', 'r'), 151),\n",
       " (('d', 'd'), 149),\n",
       " (('o', 'a'), 149),\n",
       " (('w', 'e'), 149),\n",
       " (('w', 'i'), 148),\n",
       " (('y', 'm'), 148),\n",
       " (('z', 'y'), 147),\n",
       " (('n', 'z'), 145),\n",
       " (('y', 'u'), 141),\n",
       " (('r', 'n'), 140),\n",
       " (('o', 'b'), 140),\n",
       " (('k', 'l'), 139),\n",
       " (('m', 'u'), 139),\n",
       " (('l', 'd'), 138),\n",
       " (('h', 'n'), 138),\n",
       " (('u', 'd'), 136),\n",
       " (('.', 'x'), 134),\n",
       " (('t', 'l'), 134),\n",
       " (('a', 'f'), 134),\n",
       " (('o', 'e'), 132),\n",
       " (('e', 'x'), 132),\n",
       " (('e', 'g'), 125),\n",
       " (('f', 'e'), 123),\n",
       " (('z', 'l'), 123),\n",
       " (('u', 'i'), 121),\n",
       " (('v', 'y'), 121),\n",
       " (('e', 'b'), 121),\n",
       " (('r', 'h'), 121),\n",
       " (('j', 'i'), 119),\n",
       " (('o', 't'), 118),\n",
       " (('d', 'h'), 118),\n",
       " (('h', 'm'), 117),\n",
       " (('c', 'l'), 116),\n",
       " (('o', 'o'), 115),\n",
       " (('y', 'c'), 115),\n",
       " (('o', 'w'), 114),\n",
       " (('o', 'c'), 114),\n",
       " (('f', 'r'), 114),\n",
       " (('b', '.'), 114),\n",
       " (('m', 'b'), 112),\n",
       " (('z', 'o'), 110),\n",
       " (('i', 'b'), 110),\n",
       " (('i', 'u'), 109),\n",
       " (('k', 'r'), 109),\n",
       " (('g', '.'), 108),\n",
       " (('y', 'v'), 106),\n",
       " (('t', 'z'), 105),\n",
       " (('b', 'o'), 105),\n",
       " (('c', 'y'), 104),\n",
       " (('y', 't'), 104),\n",
       " (('u', 'b'), 103),\n",
       " (('u', 'c'), 103),\n",
       " (('x', 'a'), 103),\n",
       " (('b', 'l'), 103),\n",
       " (('o', 'y'), 103),\n",
       " (('x', 'i'), 102),\n",
       " (('i', 'f'), 101),\n",
       " (('r', 'c'), 99),\n",
       " (('c', '.'), 97),\n",
       " (('m', 'r'), 97),\n",
       " (('n', 'u'), 96),\n",
       " (('o', 'p'), 95),\n",
       " (('i', 'h'), 95),\n",
       " (('k', 's'), 95),\n",
       " (('l', 's'), 94),\n",
       " (('u', 'k'), 93),\n",
       " (('.', 'q'), 92),\n",
       " (('d', 'u'), 92),\n",
       " (('s', 'm'), 90),\n",
       " (('r', 'k'), 90),\n",
       " (('i', 'x'), 89),\n",
       " (('v', '.'), 88),\n",
       " (('y', 'k'), 86),\n",
       " (('u', 'w'), 86),\n",
       " (('g', 'u'), 85),\n",
       " (('b', 'y'), 83),\n",
       " (('e', 'p'), 83),\n",
       " (('g', 'o'), 83),\n",
       " (('s', 'k'), 82),\n",
       " (('u', 't'), 82),\n",
       " (('a', 'p'), 82),\n",
       " (('e', 'f'), 82),\n",
       " (('i', 'i'), 82),\n",
       " (('r', 'v'), 80),\n",
       " (('f', '.'), 80),\n",
       " (('t', 'u'), 78),\n",
       " (('y', 'z'), 78),\n",
       " (('.', 'u'), 78),\n",
       " (('l', 't'), 77),\n",
       " (('r', 'g'), 76),\n",
       " (('c', 'r'), 76),\n",
       " (('i', 'j'), 76),\n",
       " (('w', 'y'), 73),\n",
       " (('z', 'u'), 73),\n",
       " (('l', 'v'), 72),\n",
       " (('h', 't'), 71),\n",
       " (('j', '.'), 71),\n",
       " (('x', 't'), 70),\n",
       " (('o', 'i'), 69),\n",
       " (('e', 'u'), 69),\n",
       " (('o', 'k'), 68),\n",
       " (('b', 'd'), 65),\n",
       " (('a', 'o'), 63),\n",
       " (('p', 'i'), 61),\n",
       " (('s', 'c'), 60),\n",
       " (('d', 'l'), 60),\n",
       " (('l', 'm'), 60),\n",
       " (('a', 'q'), 60),\n",
       " (('f', 'o'), 60),\n",
       " (('p', 'o'), 59),\n",
       " (('n', 'k'), 58),\n",
       " (('w', 'n'), 58),\n",
       " (('u', 'h'), 58),\n",
       " (('e', 'j'), 55),\n",
       " (('n', 'v'), 55),\n",
       " (('s', 'r'), 55),\n",
       " (('o', 'z'), 54),\n",
       " (('i', 'p'), 53),\n",
       " (('l', 'b'), 52),\n",
       " (('i', 'q'), 52),\n",
       " (('w', '.'), 51),\n",
       " (('m', 'c'), 51),\n",
       " (('s', 'p'), 51),\n",
       " (('e', 'w'), 50),\n",
       " (('k', 'u'), 50),\n",
       " (('v', 'r'), 48),\n",
       " (('u', 'g'), 47),\n",
       " (('o', 'x'), 45),\n",
       " (('u', 'z'), 45),\n",
       " (('z', 'z'), 45),\n",
       " (('j', 'h'), 45),\n",
       " (('b', 'u'), 45),\n",
       " (('o', 'g'), 44),\n",
       " (('n', 'r'), 44),\n",
       " (('f', 'f'), 44),\n",
       " (('n', 'j'), 44),\n",
       " (('z', 'h'), 43),\n",
       " (('c', 'c'), 42),\n",
       " (('r', 'b'), 41),\n",
       " (('x', 'o'), 41),\n",
       " (('b', 'h'), 41),\n",
       " (('p', 'p'), 39),\n",
       " (('x', 'l'), 39),\n",
       " (('h', 'v'), 39),\n",
       " (('b', 'b'), 38),\n",
       " (('m', 'p'), 38),\n",
       " (('x', 'x'), 38),\n",
       " (('u', 'v'), 37),\n",
       " (('x', 'e'), 36),\n",
       " (('w', 'o'), 36),\n",
       " (('c', 't'), 35),\n",
       " (('z', 'm'), 35),\n",
       " (('t', 's'), 35),\n",
       " (('m', 's'), 35),\n",
       " (('c', 'u'), 35),\n",
       " (('o', 'f'), 34),\n",
       " (('u', 'x'), 34),\n",
       " (('k', 'w'), 34),\n",
       " (('p', '.'), 33),\n",
       " (('g', 'l'), 32),\n",
       " (('z', 'r'), 32),\n",
       " (('d', 'n'), 31),\n",
       " (('g', 't'), 31),\n",
       " (('g', 'y'), 31),\n",
       " (('h', 's'), 31),\n",
       " (('x', 's'), 31),\n",
       " (('g', 's'), 30),\n",
       " (('x', 'y'), 30),\n",
       " (('y', 'g'), 30),\n",
       " (('d', 'm'), 30),\n",
       " (('d', 's'), 29),\n",
       " (('h', 'k'), 29),\n",
       " (('y', 'x'), 28),\n",
       " (('q', '.'), 28),\n",
       " (('g', 'n'), 27),\n",
       " (('y', 'b'), 27),\n",
       " (('g', 'w'), 26),\n",
       " (('n', 'h'), 26),\n",
       " (('k', 'n'), 26),\n",
       " (('g', 'g'), 25),\n",
       " (('d', 'g'), 25),\n",
       " (('l', 'c'), 25),\n",
       " (('r', 'j'), 25),\n",
       " (('w', 'u'), 25),\n",
       " (('l', 'k'), 24),\n",
       " (('m', 'd'), 24),\n",
       " (('s', 'w'), 24),\n",
       " (('s', 'n'), 24),\n",
       " (('h', 'd'), 24),\n",
       " (('w', 'h'), 23),\n",
       " (('y', 'j'), 23),\n",
       " (('y', 'y'), 23),\n",
       " (('r', 'z'), 23),\n",
       " (('d', 'w'), 23),\n",
       " (('w', 'r'), 22),\n",
       " (('t', 'n'), 22),\n",
       " (('l', 'f'), 22),\n",
       " (('y', 'h'), 22),\n",
       " (('r', 'w'), 21),\n",
       " (('s', 'b'), 21),\n",
       " (('m', 'n'), 20),\n",
       " (('f', 'l'), 20),\n",
       " (('w', 's'), 20),\n",
       " (('k', 'k'), 20),\n",
       " (('h', 'z'), 20),\n",
       " (('g', 'd'), 19),\n",
       " (('l', 'h'), 19),\n",
       " (('n', 'm'), 19),\n",
       " (('x', 'z'), 19),\n",
       " (('u', 'f'), 19),\n",
       " (('f', 't'), 18),\n",
       " (('l', 'r'), 18),\n",
       " (('p', 't'), 17),\n",
       " (('t', 'c'), 17),\n",
       " (('k', 't'), 17),\n",
       " (('d', 'v'), 17),\n",
       " (('u', 'p'), 16),\n",
       " (('p', 'l'), 16),\n",
       " (('l', 'w'), 16),\n",
       " (('p', 's'), 16),\n",
       " (('o', 'j'), 16),\n",
       " (('r', 'q'), 16),\n",
       " (('y', 'p'), 15),\n",
       " (('l', 'p'), 15),\n",
       " (('t', 'v'), 15),\n",
       " (('r', 'p'), 14),\n",
       " (('l', 'n'), 14),\n",
       " (('e', 'q'), 14),\n",
       " (('f', 'y'), 14),\n",
       " (('s', 'v'), 14),\n",
       " (('u', 'j'), 14),\n",
       " (('v', 'l'), 14),\n",
       " (('q', 'a'), 13),\n",
       " (('u', 'y'), 13),\n",
       " (('q', 'i'), 13),\n",
       " (('w', 'l'), 13),\n",
       " (('p', 'y'), 12),\n",
       " (('y', 'f'), 12),\n",
       " (('c', 'q'), 11),\n",
       " (('j', 'r'), 11),\n",
       " (('n', 'w'), 11),\n",
       " (('n', 'f'), 11),\n",
       " (('t', 'w'), 11),\n",
       " (('m', 'z'), 11),\n",
       " (('u', 'o'), 10),\n",
       " (('f', 'u'), 10),\n",
       " (('l', 'z'), 10),\n",
       " (('h', 'w'), 10),\n",
       " (('u', 'q'), 10),\n",
       " (('j', 'y'), 10),\n",
       " (('s', 'z'), 10),\n",
       " (('s', 'd'), 9),\n",
       " (('j', 'l'), 9),\n",
       " (('d', 'j'), 9),\n",
       " (('k', 'm'), 9),\n",
       " (('r', 'f'), 9),\n",
       " (('h', 'j'), 9),\n",
       " (('v', 'n'), 8),\n",
       " (('n', 'b'), 8),\n",
       " (('i', 'w'), 8),\n",
       " (('h', 'b'), 8),\n",
       " (('b', 's'), 8),\n",
       " (('w', 't'), 8),\n",
       " (('w', 'd'), 8),\n",
       " (('v', 'v'), 7),\n",
       " (('v', 'u'), 7),\n",
       " (('j', 's'), 7),\n",
       " (('m', 'j'), 7),\n",
       " (('f', 's'), 6),\n",
       " (('l', 'g'), 6),\n",
       " (('l', 'j'), 6),\n",
       " (('j', 'w'), 6),\n",
       " (('n', 'x'), 6),\n",
       " (('y', 'q'), 6),\n",
       " (('w', 'k'), 6),\n",
       " (('g', 'm'), 6),\n",
       " (('x', 'u'), 5),\n",
       " (('m', 'h'), 5),\n",
       " (('m', 'l'), 5),\n",
       " (('j', 'm'), 5),\n",
       " (('c', 's'), 5),\n",
       " (('j', 'v'), 5),\n",
       " (('n', 'p'), 5),\n",
       " (('d', 'f'), 5),\n",
       " (('x', 'd'), 5),\n",
       " (('z', 'b'), 4),\n",
       " (('f', 'n'), 4),\n",
       " (('x', 'c'), 4),\n",
       " (('m', 't'), 4),\n",
       " (('t', 'm'), 4),\n",
       " (('z', 'n'), 4),\n",
       " (('z', 't'), 4),\n",
       " (('p', 'u'), 4),\n",
       " (('c', 'z'), 4),\n",
       " (('b', 'n'), 4),\n",
       " (('z', 's'), 4),\n",
       " (('f', 'w'), 4),\n",
       " (('d', 't'), 4),\n",
       " (('j', 'd'), 4),\n",
       " (('j', 'c'), 4),\n",
       " (('y', 'w'), 4),\n",
       " (('v', 'k'), 3),\n",
       " (('x', 'w'), 3),\n",
       " (('t', 'j'), 3),\n",
       " (('c', 'j'), 3),\n",
       " (('q', 'w'), 3),\n",
       " (('g', 'b'), 3),\n",
       " (('o', 'q'), 3),\n",
       " (('r', 'x'), 3),\n",
       " (('d', 'c'), 3),\n",
       " (('g', 'j'), 3),\n",
       " (('x', 'f'), 3),\n",
       " (('z', 'w'), 3),\n",
       " (('d', 'k'), 3),\n",
       " (('u', 'u'), 3),\n",
       " (('m', 'v'), 3),\n",
       " (('c', 'x'), 3),\n",
       " (('l', 'q'), 3),\n",
       " (('p', 'b'), 2),\n",
       " (('t', 'g'), 2),\n",
       " (('q', 's'), 2),\n",
       " (('t', 'x'), 2),\n",
       " (('f', 'k'), 2),\n",
       " (('b', 't'), 2),\n",
       " (('j', 'n'), 2),\n",
       " (('k', 'c'), 2),\n",
       " (('z', 'k'), 2),\n",
       " (('s', 'j'), 2),\n",
       " (('s', 'f'), 2),\n",
       " (('z', 'j'), 2),\n",
       " (('n', 'q'), 2),\n",
       " (('f', 'z'), 2),\n",
       " (('h', 'g'), 2),\n",
       " (('w', 'w'), 2),\n",
       " (('k', 'j'), 2),\n",
       " (('j', 'k'), 2),\n",
       " (('w', 'm'), 2),\n",
       " (('z', 'c'), 2),\n",
       " (('z', 'v'), 2),\n",
       " (('w', 'f'), 2),\n",
       " (('q', 'm'), 2),\n",
       " (('k', 'z'), 2),\n",
       " (('j', 'j'), 2),\n",
       " (('z', 'p'), 2),\n",
       " (('j', 't'), 2),\n",
       " (('k', 'b'), 2),\n",
       " (('m', 'w'), 2),\n",
       " (('h', 'f'), 2),\n",
       " (('c', 'g'), 2),\n",
       " (('t', 'f'), 2),\n",
       " (('h', 'c'), 2),\n",
       " (('q', 'o'), 2),\n",
       " (('k', 'd'), 2),\n",
       " (('k', 'v'), 2),\n",
       " (('s', 'g'), 2),\n",
       " (('z', 'd'), 2),\n",
       " (('q', 'r'), 1),\n",
       " (('d', 'z'), 1),\n",
       " (('p', 'j'), 1),\n",
       " (('q', 'l'), 1),\n",
       " (('p', 'f'), 1),\n",
       " (('q', 'e'), 1),\n",
       " (('b', 'c'), 1),\n",
       " (('c', 'd'), 1),\n",
       " (('m', 'f'), 1),\n",
       " (('p', 'n'), 1),\n",
       " (('w', 'b'), 1),\n",
       " (('p', 'c'), 1),\n",
       " (('h', 'p'), 1),\n",
       " (('f', 'h'), 1),\n",
       " (('b', 'j'), 1),\n",
       " (('f', 'g'), 1),\n",
       " (('z', 'g'), 1),\n",
       " (('c', 'p'), 1),\n",
       " (('p', 'k'), 1),\n",
       " (('p', 'm'), 1),\n",
       " (('x', 'n'), 1),\n",
       " (('s', 'q'), 1),\n",
       " (('k', 'f'), 1),\n",
       " (('m', 'k'), 1),\n",
       " (('x', 'h'), 1),\n",
       " (('g', 'f'), 1),\n",
       " (('v', 'b'), 1),\n",
       " (('j', 'p'), 1),\n",
       " (('g', 'z'), 1),\n",
       " (('v', 'd'), 1),\n",
       " (('d', 'b'), 1),\n",
       " (('v', 'h'), 1),\n",
       " (('h', 'h'), 1),\n",
       " (('g', 'v'), 1),\n",
       " (('d', 'q'), 1),\n",
       " (('x', 'b'), 1),\n",
       " (('w', 'z'), 1),\n",
       " (('h', 'q'), 1),\n",
       " (('j', 'b'), 1),\n",
       " (('x', 'm'), 1),\n",
       " (('w', 'g'), 1),\n",
       " (('t', 'b'), 1),\n",
       " (('z', 'x'), 1)]"
      ]
     },
     "execution_count": 7,
     "metadata": {},
     "output_type": "execute_result"
    }
   ],
   "source": [
    "sorted(b.items(),key=lambda kv :-kv[1])"
   ]
  },
  {
   "cell_type": "code",
   "execution_count": 8,
   "metadata": {},
   "outputs": [],
   "source": [
    "import torch"
   ]
  },
  {
   "cell_type": "code",
   "execution_count": 9,
   "metadata": {},
   "outputs": [],
   "source": [
    "a=torch.zeros((27,27))"
   ]
  },
  {
   "cell_type": "code",
   "execution_count": 10,
   "metadata": {},
   "outputs": [],
   "source": [
    "chars=sorted(list(set (''.join(words))))\n",
    "stoi={s:i+1 for i,s in enumerate(chars)}\n",
    "stoi['.']=0\n",
    "itos={s:i for i,s in stoi.items()}\n"
   ]
  },
  {
   "cell_type": "code",
   "execution_count": null,
   "metadata": {},
   "outputs": [],
   "source": []
  },
  {
   "cell_type": "code",
   "execution_count": 11,
   "metadata": {},
   "outputs": [],
   "source": [
    "N=torch.zeros((27,27),dtype=torch.int32)"
   ]
  },
  {
   "cell_type": "code",
   "execution_count": 12,
   "metadata": {},
   "outputs": [],
   "source": [
    "for w in words:\n",
    "    w='.'+w+'.'\n",
    "    for ch1,ch2 in zip(w,w[1:]):\n",
    "        ix1,ix2=stoi[ch1],stoi[ch2]\n",
    "        N[ix1][ix2]+=1"
   ]
  },
  {
   "cell_type": "code",
   "execution_count": 13,
   "metadata": {},
   "outputs": [
    {
     "data": {
      "text/plain": [
       "(-0.5, 26.5, 26.5, -0.5)"
      ]
     },
     "execution_count": 13,
     "metadata": {},
     "output_type": "execute_result"
    },
    {
     "data": {
      "image/png": "[encoded data removed]",
      "text/plain": [
       "<Figure size 1600x1600 with 1 Axes>"
      ]
     },
     "metadata": {},
     "output_type": "display_data"
    }
   ],
   "source": [
    "import matplotlib.pyplot as plt \n",
    "%matplotlib inline\n",
    "plt.figure(figsize=(16,16))\n",
    "plt.imshow(N,cmap='Blues')\n",
    "for i in range(27):\n",
    "    for j in range(27):\n",
    "        chstr=itos[i]+itos[j]\n",
    "        plt.text(j,i,chstr,color='gray')\n",
    "plt.axis('off')"
   ]
  },
  {
   "cell_type": "code",
   "execution_count": 437,
   "metadata": {},
   "outputs": [
    {
     "data": {
      "text/plain": [
       "tensor([   0, 4410, 1306, 1542, 1690, 1531,  417,  669,  874,  591, 2422, 2963,\n",
       "        1572, 2538, 1146,  394,  515,   92, 1639, 2055, 1308,   78,  376,  307,\n",
       "         134,  535,  929], dtype=torch.int32)"
      ]
     },
     "execution_count": 437,
     "metadata": {},
     "output_type": "execute_result"
    }
   ],
   "source": [
    "N[0]"
   ]
  },
  {
   "cell_type": "code",
   "execution_count": 447,
   "metadata": {},
   "outputs": [],
   "source": []
  },
  {
   "cell_type": "code",
   "execution_count": 493,
   "metadata": {},
   "outputs": [
    {
     "data": {
      "text/plain": [
       "torch.Size([27, 27])"
      ]
     },
     "execution_count": 493,
     "metadata": {},
     "output_type": "execute_result"
    }
   ],
   "source": [
    "p=(N+1).float()\n",
    "p/=p.sum(1,keepdim=True)\n",
    "\n",
    "p.shape"
   ]
  },
  {
   "cell_type": "code",
   "execution_count": 494,
   "metadata": {},
   "outputs": [
    {
     "name": "stdout",
     "output_type": "stream",
     "text": [
      "junide.\n",
      "janasah.\n",
      "p.\n",
      "cony.\n",
      "a.\n",
      "nn.\n",
      "kohin.\n",
      "tolian.\n",
      "juee.\n",
      "ksahnaauranilevias.\n"
     ]
    }
   ],
   "source": [
    "g=torch.Generator().manual_seed(2147483647)\n",
    "for i in range(10):\n",
    "    ix=0\n",
    "    out=[]\n",
    "    \n",
    "    while True:\n",
    "        a=p[ix]\n",
    "        ix=torch.multinomial(a, num_samples=1,replacement=True,generator=g).item()\n",
    "        out.append(itos[ix])\n",
    "        if ix==0:\n",
    "            break\n",
    "    print(\"\".join(out))"
   ]
  },
  {
   "cell_type": "code",
   "execution_count": 497,
   "metadata": {},
   "outputs": [
    {
     "name": "stdout",
     "output_type": "stream",
     "text": [
      "log_likelihood=tensor(-559951.5625)\n",
      "nll/n=tensor(2.4544)\n"
     ]
    }
   ],
   "source": [
    "nll=0\n",
    "log_likelihood=0.0\n",
    "n=0\n",
    "for w in words:\n",
    "    chs=['.']+list(w)+['.']\n",
    "    for ch1,ch2 in zip (chs[:],chs[1:]):\n",
    "        ix1,ix2=stoi[ch1],stoi[ch2]\n",
    "        prob=p[ix1,ix2]\n",
    "        logprob=torch.log(prob)\n",
    "        log_likelihood+=logprob\n",
    "        n+=1\n",
    "        #print(f'{ch1},{ch2}:{prob}')\n",
    "        \n",
    "print(f'{log_likelihood=}')\n",
    "nll=-log_likelihood\n",
    "print(f'{nll/n=}')"
   ]
  },
  {
   "cell_type": "code",
   "execution_count": null,
   "metadata": {},
   "outputs": [],
   "source": []
  },
  {
   "cell_type": "code",
   "execution_count": 790,
   "metadata": {},
   "outputs": [],
   "source": [
    "# create the training set of bigrams (x,y)\n",
    "\n",
    "xs,ys=[],[]\n",
    "\n",
    "for i in words:\n",
    "    chs='.'+i+\".\"\n",
    "    for ch1,ch2 in zip(chs[:],chs[1:]):\n",
    "        ix1,ix2=stoi[ch1],stoi[ch2]\n",
    "        \n",
    "        xs.append(ix1)\n",
    "        ys.append(ix2)\n",
    "xs=torch.tensor(xs)\n",
    "ys=torch.tensor(ys)"
   ]
  },
  {
   "cell_type": "code",
   "execution_count": 796,
   "metadata": {},
   "outputs": [
    {
     "data": {
      "text/plain": [
       "torch.Size([228146])"
      ]
     },
     "execution_count": 796,
     "metadata": {},
     "output_type": "execute_result"
    }
   ],
   "source": [
    "xs.shape"
   ]
  },
  {
   "cell_type": "code",
   "execution_count": 519,
   "metadata": {},
   "outputs": [],
   "source": [
    "import torch.nn.functional as F \n",
    "xenc =F.one_hot(xs,num_classes=27).float()"
   ]
  },
  {
   "cell_type": "code",
   "execution_count": 520,
   "metadata": {},
   "outputs": [
    {
     "data": {
      "text/plain": [
       "torch.float32"
      ]
     },
     "execution_count": 520,
     "metadata": {},
     "output_type": "execute_result"
    }
   ],
   "source": [
    "xenc.dtype"
   ]
  },
  {
   "cell_type": "code",
   "execution_count": 521,
   "metadata": {},
   "outputs": [
    {
     "data": {
      "text/plain": [
       "<matplotlib.image.AxesImage at 0x7fa26675dc60>"
      ]
     },
     "execution_count": 521,
     "metadata": {},
     "output_type": "execute_result"
    },
    {
     "data": {
      "image/png": "[encoded data removed]",
      "text/plain": [
       "<Figure size 640x480 with 1 Axes>"
      ]
     },
     "metadata": {},
     "output_type": "display_data"
    }
   ],
   "source": [
    "plt.imshow(xenc)"
   ]
  },
  {
   "cell_type": "code",
   "execution_count": 522,
   "metadata": {},
   "outputs": [
    {
     "data": {
      "text/plain": [
       "torch.float32"
      ]
     },
     "execution_count": 522,
     "metadata": {},
     "output_type": "execute_result"
    }
   ],
   "source": [
    "xenc.dtype"
   ]
  },
  {
   "cell_type": "code",
   "execution_count": null,
   "metadata": {},
   "outputs": [],
   "source": []
  },
  {
   "cell_type": "code",
   "execution_count": 797,
   "metadata": {},
   "outputs": [],
   "source": [
    "g=torch.Generator().manual_seed(2147483647)\n",
    "w=torch.randn((27,27),generator=g,requires_grad=True); "
   ]
  },
  {
   "cell_type": "code",
   "execution_count": 1015,
   "metadata": {},
   "outputs": [
    {
     "name": "stdout",
     "output_type": "stream",
     "text": [
      "tensor(2.4550, grad_fn=<NegBackward0>)\n",
      "tensor(2.4550, grad_fn=<NegBackward0>)\n",
      "tensor(2.4550, grad_fn=<NegBackward0>)\n",
      "tensor(2.4550, grad_fn=<NegBackward0>)\n",
      "tensor(2.4550, grad_fn=<NegBackward0>)\n",
      "tensor(2.4550, grad_fn=<NegBackward0>)\n",
      "tensor(2.4550, grad_fn=<NegBackward0>)\n",
      "tensor(2.4550, grad_fn=<NegBackward0>)\n",
      "tensor(2.4550, grad_fn=<NegBackward0>)\n",
      "tensor(2.4550, grad_fn=<NegBackward0>)\n",
      "tensor(2.4550, grad_fn=<NegBackward0>)\n",
      "tensor(2.4550, grad_fn=<NegBackward0>)\n",
      "tensor(2.4550, grad_fn=<NegBackward0>)\n",
      "tensor(2.4550, grad_fn=<NegBackward0>)\n",
      "tensor(2.4550, grad_fn=<NegBackward0>)\n",
      "tensor(2.4550, grad_fn=<NegBackward0>)\n",
      "tensor(2.4550, grad_fn=<NegBackward0>)\n",
      "tensor(2.4550, grad_fn=<NegBackward0>)\n",
      "tensor(2.4550, grad_fn=<NegBackward0>)\n",
      "tensor(2.4550, grad_fn=<NegBackward0>)\n",
      "tensor(2.4550, grad_fn=<NegBackward0>)\n",
      "tensor(2.4550, grad_fn=<NegBackward0>)\n",
      "tensor(2.4550, grad_fn=<NegBackward0>)\n",
      "tensor(2.4550, grad_fn=<NegBackward0>)\n",
      "tensor(2.4550, grad_fn=<NegBackward0>)\n",
      "tensor(2.4550, grad_fn=<NegBackward0>)\n",
      "tensor(2.4550, grad_fn=<NegBackward0>)\n",
      "tensor(2.4550, grad_fn=<NegBackward0>)\n",
      "tensor(2.4550, grad_fn=<NegBackward0>)\n",
      "tensor(2.4550, grad_fn=<NegBackward0>)\n",
      "tensor(2.4550, grad_fn=<NegBackward0>)\n",
      "tensor(2.4550, grad_fn=<NegBackward0>)\n",
      "tensor(2.4550, grad_fn=<NegBackward0>)\n",
      "tensor(2.4550, grad_fn=<NegBackward0>)\n",
      "tensor(2.4550, grad_fn=<NegBackward0>)\n",
      "tensor(2.4550, grad_fn=<NegBackward0>)\n",
      "tensor(2.4550, grad_fn=<NegBackward0>)\n",
      "tensor(2.4550, grad_fn=<NegBackward0>)\n",
      "tensor(2.4550, grad_fn=<NegBackward0>)\n",
      "tensor(2.4550, grad_fn=<NegBackward0>)\n",
      "tensor(2.4549, grad_fn=<NegBackward0>)\n",
      "tensor(2.4549, grad_fn=<NegBackward0>)\n",
      "tensor(2.4549, grad_fn=<NegBackward0>)\n",
      "tensor(2.4549, grad_fn=<NegBackward0>)\n",
      "tensor(2.4549, grad_fn=<NegBackward0>)\n",
      "tensor(2.4549, grad_fn=<NegBackward0>)\n",
      "tensor(2.4549, grad_fn=<NegBackward0>)\n",
      "tensor(2.4549, grad_fn=<NegBackward0>)\n",
      "tensor(2.4549, grad_fn=<NegBackward0>)\n",
      "tensor(2.4549, grad_fn=<NegBackward0>)\n",
      "tensor(2.4549, grad_fn=<NegBackward0>)\n",
      "tensor(2.4549, grad_fn=<NegBackward0>)\n",
      "tensor(2.4549, grad_fn=<NegBackward0>)\n",
      "tensor(2.4549, grad_fn=<NegBackward0>)\n",
      "tensor(2.4549, grad_fn=<NegBackward0>)\n",
      "tensor(2.4549, grad_fn=<NegBackward0>)\n",
      "tensor(2.4549, grad_fn=<NegBackward0>)\n",
      "tensor(2.4549, grad_fn=<NegBackward0>)\n",
      "tensor(2.4549, grad_fn=<NegBackward0>)\n",
      "tensor(2.4549, grad_fn=<NegBackward0>)\n",
      "tensor(2.4549, grad_fn=<NegBackward0>)\n",
      "tensor(2.4549, grad_fn=<NegBackward0>)\n",
      "tensor(2.4549, grad_fn=<NegBackward0>)\n",
      "tensor(2.4549, grad_fn=<NegBackward0>)\n",
      "tensor(2.4549, grad_fn=<NegBackward0>)\n",
      "tensor(2.4549, grad_fn=<NegBackward0>)\n",
      "tensor(2.4549, grad_fn=<NegBackward0>)\n",
      "tensor(2.4549, grad_fn=<NegBackward0>)\n",
      "tensor(2.4549, grad_fn=<NegBackward0>)\n",
      "tensor(2.4549, grad_fn=<NegBackward0>)\n",
      "tensor(2.4549, grad_fn=<NegBackward0>)\n",
      "tensor(2.4549, grad_fn=<NegBackward0>)\n",
      "tensor(2.4549, grad_fn=<NegBackward0>)\n",
      "tensor(2.4549, grad_fn=<NegBackward0>)\n",
      "tensor(2.4549, grad_fn=<NegBackward0>)\n",
      "tensor(2.4549, grad_fn=<NegBackward0>)\n",
      "tensor(2.4549, grad_fn=<NegBackward0>)\n",
      "tensor(2.4549, grad_fn=<NegBackward0>)\n",
      "tensor(2.4549, grad_fn=<NegBackward0>)\n",
      "tensor(2.4549, grad_fn=<NegBackward0>)\n",
      "tensor(2.4549, grad_fn=<NegBackward0>)\n",
      "tensor(2.4549, grad_fn=<NegBackward0>)\n",
      "tensor(2.4549, grad_fn=<NegBackward0>)\n",
      "tensor(2.4549, grad_fn=<NegBackward0>)\n",
      "tensor(2.4549, grad_fn=<NegBackward0>)\n",
      "tensor(2.4549, grad_fn=<NegBackward0>)\n",
      "tensor(2.4549, grad_fn=<NegBackward0>)\n",
      "tensor(2.4549, grad_fn=<NegBackward0>)\n",
      "tensor(2.4549, grad_fn=<NegBackward0>)\n",
      "tensor(2.4549, grad_fn=<NegBackward0>)\n",
      "tensor(2.4549, grad_fn=<NegBackward0>)\n",
      "tensor(2.4549, grad_fn=<NegBackward0>)\n",
      "tensor(2.4549, grad_fn=<NegBackward0>)\n",
      "tensor(2.4549, grad_fn=<NegBackward0>)\n",
      "tensor(2.4549, grad_fn=<NegBackward0>)\n",
      "tensor(2.4549, grad_fn=<NegBackward0>)\n",
      "tensor(2.4549, grad_fn=<NegBackward0>)\n",
      "tensor(2.4549, grad_fn=<NegBackward0>)\n",
      "tensor(2.4549, grad_fn=<NegBackward0>)\n",
      "tensor(2.4549, grad_fn=<NegBackward0>)\n"
     ]
    }
   ],
   "source": [
    "for i in range(100):\n",
    "    xenc=F.one_hot(xs,num_classes=27).float()\n",
    "    logits=xenc@w\n",
    "    counts=logits.exp()\n",
    "    probs=counts/counts.sum(1,keepdim=True)\n",
    "    loss=-probs[torch.arange(len(ys)),ys].log().mean()\n",
    "    w.grad=None\n",
    "    loss.backward()\n",
    "    w.data+=-50*w.grad\n",
    "    print(loss)\n"
   ]
  },
  {
   "cell_type": "code",
   "execution_count": 826,
   "metadata": {},
   "outputs": [
    {
     "data": {
      "text/plain": [
       "torch.Size([228146, 27])"
      ]
     },
     "execution_count": 826,
     "metadata": {},
     "output_type": "execute_result"
    }
   ],
   "source": [
    "probs.shape"
   ]
  },
  {
   "cell_type": "code",
   "execution_count": 827,
   "metadata": {},
   "outputs": [
    {
     "data": {
      "text/plain": [
       "tensor([ 0,  5, 13,  ..., 25, 26, 24])"
      ]
     },
     "execution_count": 827,
     "metadata": {},
     "output_type": "execute_result"
    }
   ],
   "source": [
    "xs"
   ]
  },
  {
   "cell_type": "code",
   "execution_count": 828,
   "metadata": {},
   "outputs": [
    {
     "data": {
      "text/plain": [
       "tensor([ 5, 13, 13,  ..., 26, 24,  0])"
      ]
     },
     "execution_count": 828,
     "metadata": {},
     "output_type": "execute_result"
    }
   ],
   "source": [
    "ys"
   ]
  },
  {
   "cell_type": "code",
   "execution_count": 829,
   "metadata": {},
   "outputs": [
    {
     "data": {
      "text/plain": [
       "torch.Size([27, 27])"
      ]
     },
     "execution_count": 829,
     "metadata": {},
     "output_type": "execute_result"
    }
   ],
   "source": [
    "w.grad.shape"
   ]
  },
  {
   "cell_type": "code",
   "execution_count": 830,
   "metadata": {},
   "outputs": [
    {
     "data": {
      "text/plain": [
       "tensor(3.2852, grad_fn=<NegBackward0>)"
      ]
     },
     "execution_count": 830,
     "metadata": {},
     "output_type": "execute_result"
    }
   ],
   "source": [
    "loss=-probs[torch.arange(len(ys)),ys].log().mean()\n",
    "loss"
   ]
  },
  {
   "cell_type": "code",
   "execution_count": 1002,
   "metadata": {},
   "outputs": [
    {
     "name": "stdout",
     "output_type": "stream",
     "text": [
      "junide.\n",
      "janasah.\n",
      "prelay.\n",
      "a.\n",
      "nn.\n",
      "kohin.\n",
      "tolian.\n",
      "juee.\n",
      "ksahnaauranilevias.\n",
      "dedainrwieta.\n"
     ]
    }
   ],
   "source": [
    "g=torch.Generator().manual_seed(2147483647)\n",
    "for i in range(10):\n",
    "    ix=0\n",
    "    out=[]\n",
    "    \n",
    "    \n",
    "    while True:\n",
    "        # a=p[ix]\n",
    "        xenc=F.one_hot(torch.tensor([ix]),num_classes=27).float()\n",
    "        logits=xenc@w\n",
    "        counts=logits.exp()\n",
    "        probs=counts/counts.sum(1,keepdim=True)\n",
    "        a=probs\n",
    "        ix=torch.multinomial(a, num_samples=1,replacement=True,generator=g).item()\n",
    "        out.append(itos[ix])\n",
    "        if ix==0:\n",
    "            break\n",
    "    print(\"\".join(out))\n",
    "    "
   ]
  },
  {
   "cell_type": "code",
   "execution_count": 884,
   "metadata": {},
   "outputs": [],
   "source": [
    "ln=len(ys)"
   ]
  },
  {
   "cell_type": "code",
   "execution_count": 873,
   "metadata": {},
   "outputs": [
    {
     "data": {
      "text/plain": [
       "(tensor([ 0,  5, 13,  ..., 25, 26, 24]),\n",
       " tensor([ 5, 13, 13,  ..., 26, 24,  0]))"
      ]
     },
     "execution_count": 873,
     "metadata": {},
     "output_type": "execute_result"
    }
   ],
   "source": [
    "xs,ys"
   ]
  },
  {
   "cell_type": "code",
   "execution_count": 903,
   "metadata": {},
   "outputs": [
    {
     "name": "stdout",
     "output_type": "stream",
     "text": [
      "tensor(2.4569, grad_fn=<NegBackward0>)\n",
      "tensor(2.4569, grad_fn=<NegBackward0>)\n",
      "tensor(2.4569, grad_fn=<NegBackward0>)\n",
      "tensor(2.4569, grad_fn=<NegBackward0>)\n",
      "tensor(2.4569, grad_fn=<NegBackward0>)\n",
      "tensor(2.4569, grad_fn=<NegBackward0>)\n",
      "tensor(2.4569, grad_fn=<NegBackward0>)\n",
      "tensor(2.4569, grad_fn=<NegBackward0>)\n",
      "tensor(2.4569, grad_fn=<NegBackward0>)\n",
      "tensor(2.4569, grad_fn=<NegBackward0>)\n",
      "tensor(2.4569, grad_fn=<NegBackward0>)\n",
      "tensor(2.4568, grad_fn=<NegBackward0>)\n",
      "tensor(2.4568, grad_fn=<NegBackward0>)\n",
      "tensor(2.4568, grad_fn=<NegBackward0>)\n",
      "tensor(2.4568, grad_fn=<NegBackward0>)\n",
      "tensor(2.4568, grad_fn=<NegBackward0>)\n",
      "tensor(2.4568, grad_fn=<NegBackward0>)\n",
      "tensor(2.4568, grad_fn=<NegBackward0>)\n",
      "tensor(2.4568, grad_fn=<NegBackward0>)\n",
      "tensor(2.4568, grad_fn=<NegBackward0>)\n",
      "tensor(2.4568, grad_fn=<NegBackward0>)\n",
      "tensor(2.4568, grad_fn=<NegBackward0>)\n",
      "tensor(2.4568, grad_fn=<NegBackward0>)\n",
      "tensor(2.4568, grad_fn=<NegBackward0>)\n",
      "tensor(2.4568, grad_fn=<NegBackward0>)\n",
      "tensor(2.4568, grad_fn=<NegBackward0>)\n",
      "tensor(2.4568, grad_fn=<NegBackward0>)\n",
      "tensor(2.4568, grad_fn=<NegBackward0>)\n",
      "tensor(2.4568, grad_fn=<NegBackward0>)\n",
      "tensor(2.4568, grad_fn=<NegBackward0>)\n",
      "tensor(2.4568, grad_fn=<NegBackward0>)\n",
      "tensor(2.4568, grad_fn=<NegBackward0>)\n",
      "tensor(2.4568, grad_fn=<NegBackward0>)\n",
      "tensor(2.4568, grad_fn=<NegBackward0>)\n",
      "tensor(2.4568, grad_fn=<NegBackward0>)\n",
      "tensor(2.4568, grad_fn=<NegBackward0>)\n",
      "tensor(2.4568, grad_fn=<NegBackward0>)\n",
      "tensor(2.4568, grad_fn=<NegBackward0>)\n",
      "tensor(2.4568, grad_fn=<NegBackward0>)\n",
      "tensor(2.4568, grad_fn=<NegBackward0>)\n",
      "tensor(2.4568, grad_fn=<NegBackward0>)\n",
      "tensor(2.4568, grad_fn=<NegBackward0>)\n",
      "tensor(2.4568, grad_fn=<NegBackward0>)\n",
      "tensor(2.4568, grad_fn=<NegBackward0>)\n",
      "tensor(2.4568, grad_fn=<NegBackward0>)\n",
      "tensor(2.4568, grad_fn=<NegBackward0>)\n",
      "tensor(2.4568, grad_fn=<NegBackward0>)\n",
      "tensor(2.4568, grad_fn=<NegBackward0>)\n",
      "tensor(2.4568, grad_fn=<NegBackward0>)\n",
      "tensor(2.4568, grad_fn=<NegBackward0>)\n",
      "tensor(2.4568, grad_fn=<NegBackward0>)\n",
      "tensor(2.4568, grad_fn=<NegBackward0>)\n",
      "tensor(2.4568, grad_fn=<NegBackward0>)\n",
      "tensor(2.4568, grad_fn=<NegBackward0>)\n",
      "tensor(2.4568, grad_fn=<NegBackward0>)\n",
      "tensor(2.4568, grad_fn=<NegBackward0>)\n",
      "tensor(2.4568, grad_fn=<NegBackward0>)\n",
      "tensor(2.4568, grad_fn=<NegBackward0>)\n",
      "tensor(2.4568, grad_fn=<NegBackward0>)\n",
      "tensor(2.4568, grad_fn=<NegBackward0>)\n",
      "tensor(2.4568, grad_fn=<NegBackward0>)\n",
      "tensor(2.4568, grad_fn=<NegBackward0>)\n",
      "tensor(2.4568, grad_fn=<NegBackward0>)\n",
      "tensor(2.4568, grad_fn=<NegBackward0>)\n",
      "tensor(2.4568, grad_fn=<NegBackward0>)\n",
      "tensor(2.4568, grad_fn=<NegBackward0>)\n",
      "tensor(2.4568, grad_fn=<NegBackward0>)\n",
      "tensor(2.4568, grad_fn=<NegBackward0>)\n",
      "tensor(2.4568, grad_fn=<NegBackward0>)\n",
      "tensor(2.4568, grad_fn=<NegBackward0>)\n",
      "tensor(2.4568, grad_fn=<NegBackward0>)\n",
      "tensor(2.4568, grad_fn=<NegBackward0>)\n",
      "tensor(2.4568, grad_fn=<NegBackward0>)\n",
      "tensor(2.4568, grad_fn=<NegBackward0>)\n",
      "tensor(2.4568, grad_fn=<NegBackward0>)\n",
      "tensor(2.4568, grad_fn=<NegBackward0>)\n",
      "tensor(2.4568, grad_fn=<NegBackward0>)\n",
      "tensor(2.4568, grad_fn=<NegBackward0>)\n",
      "tensor(2.4568, grad_fn=<NegBackward0>)\n",
      "tensor(2.4568, grad_fn=<NegBackward0>)\n",
      "tensor(2.4568, grad_fn=<NegBackward0>)\n",
      "tensor(2.4568, grad_fn=<NegBackward0>)\n",
      "tensor(2.4568, grad_fn=<NegBackward0>)\n",
      "tensor(2.4568, grad_fn=<NegBackward0>)\n",
      "tensor(2.4568, grad_fn=<NegBackward0>)\n",
      "tensor(2.4568, grad_fn=<NegBackward0>)\n",
      "tensor(2.4568, grad_fn=<NegBackward0>)\n",
      "tensor(2.4568, grad_fn=<NegBackward0>)\n",
      "tensor(2.4568, grad_fn=<NegBackward0>)\n",
      "tensor(2.4568, grad_fn=<NegBackward0>)\n",
      "tensor(2.4568, grad_fn=<NegBackward0>)\n",
      "tensor(2.4568, grad_fn=<NegBackward0>)\n",
      "tensor(2.4568, grad_fn=<NegBackward0>)\n",
      "tensor(2.4568, grad_fn=<NegBackward0>)\n",
      "tensor(2.4568, grad_fn=<NegBackward0>)\n",
      "tensor(2.4567, grad_fn=<NegBackward0>)\n",
      "tensor(2.4567, grad_fn=<NegBackward0>)\n",
      "tensor(2.4567, grad_fn=<NegBackward0>)\n",
      "tensor(2.4567, grad_fn=<NegBackward0>)\n",
      "tensor(2.4567, grad_fn=<NegBackward0>)\n"
     ]
    }
   ],
   "source": [
    "for i in range(100):\n",
    "    xenc=F.one_hot(xs,num_classes=27).float()\n",
    "    logits=xenc@w\n",
    "    counts=logits.exp()\n",
    "    probs=counts/counts.sum(1,keepdim=True)\n",
    "    loss=-probs[torch.arange(ln),ys].log().mean()\n",
    "    w.grad=None\n",
    "    loss.backward()\n",
    "    w.data+=-10*w.grad\n",
    "    print(loss)\n"
   ]
  },
  {
   "cell_type": "code",
   "execution_count": null,
   "metadata": {},
   "outputs": [],
   "source": []
  },
  {
   "cell_type": "code",
   "execution_count": 1019,
   "metadata": {},
   "outputs": [
    {
     "name": "stdout",
     "output_type": "stream",
     "text": [
      "junide.\n",
      "janasah.\n",
      "p.\n",
      "cony.\n",
      "a.\n",
      "nn.\n",
      "kohin.\n",
      "tolian.\n",
      "juee.\n",
      "ksahnaauranilevias.\n"
     ]
    }
   ],
   "source": [
    "g=torch.Generator().manual_seed(2147483647)\n",
    "for i in range(10):\n",
    "    ix=0\n",
    "    out=[]\n",
    "    while True:\n",
    "        xenc=F.one_hot(torch.tensor([ix]),num_classes=27).float()\n",
    "        logits=xenc@w \n",
    "        counts=logits.exp()\n",
    "        probs=counts/counts.sum(1,keepdim=True)\n",
    "        ix=torch.multinomial(probs,num_samples=1,replacement=True,generator=g).item()\n",
    "        out.append(itos[ix])\n",
    "        if ix==0:\n",
    "            break\n",
    "    print(''.join(out))\n",
    "        \n",
    "    "
   ]
  },
  {
   "cell_type": "code",
   "execution_count": 1023,
   "metadata": {},
   "outputs": [
    {
     "data": {
      "text/plain": [
       "torch.Size([1, 27])"
      ]
     },
     "execution_count": 1023,
     "metadata": {},
     "output_type": "execute_result"
    }
   ],
   "source": [
    "logits.shape"
   ]
  },
  {
   "cell_type": "code",
   "execution_count": 1027,
   "metadata": {},
   "outputs": [],
   "source": [
    "c=w[ix].exp()\n",
    "p=c/c.sum()"
   ]
  },
  {
   "cell_type": "code",
   "execution_count": 1030,
   "metadata": {},
   "outputs": [
    {
     "data": {
      "text/plain": [
       "tensor(1., grad_fn=<SumBackward0>)"
      ]
     },
     "execution_count": 1030,
     "metadata": {},
     "output_type": "execute_result"
    }
   ],
   "source": []
  },
  {
   "cell_type": "code",
   "execution_count": 1032,
   "metadata": {},
   "outputs": [
    {
     "name": "stdout",
     "output_type": "stream",
     "text": [
      "junide.\n",
      "janasah.\n",
      "p.\n",
      "cony.\n",
      "a.\n",
      "nn.\n",
      "kohin.\n",
      "tolian.\n",
      "juee.\n",
      "ksahnaauranilevias.\n"
     ]
    }
   ],
   "source": [
    "g=torch.Generator().manual_seed(2147483647)\n",
    "for i in range(10):\n",
    "    ix=0\n",
    "    out=[]\n",
    "    while True:\n",
    "        xenc=F.one_hot(torch.tensor([ix]),num_classes=27).float()\n",
    "        logits=w[ix]\n",
    "        counts=logits.exp()\n",
    "        probs=counts/counts.sum()\n",
    "        ix=torch.multinomial(probs,num_samples=1,replacement=True,generator=g).item()\n",
    "        out.append(itos[ix])\n",
    "        if ix==0:\n",
    "            break\n",
    "    print(''.join(out))\n",
    "        \n",
    "    "
   ]
  },
  {
   "cell_type": "code",
   "execution_count": 1037,
   "metadata": {},
   "outputs": [
    {
     "data": {
      "text/plain": [
       "tensor([[5.7526e-03, 9.2294e+00, 2.7331e+00, 3.2270e+00, 3.5368e+00, 3.2040e+00,\n",
       "         8.7251e-01, 1.3999e+00, 1.8290e+00, 1.2367e+00, 5.0688e+00, 6.2010e+00,\n",
       "         3.2898e+00, 5.3115e+00, 2.3982e+00, 8.2438e-01, 1.0776e+00, 1.9232e-01,\n",
       "         3.4300e+00, 4.3007e+00, 2.7373e+00, 1.6302e-01, 7.8670e-01, 6.4230e-01,\n",
       "         2.8022e-01, 1.1195e+00, 1.9441e+00],\n",
       "        [9.4209e+00, 7.8886e-01, 7.6757e-01, 6.6684e-01, 1.4784e+00, 9.8181e-01,\n",
       "         1.9012e-01, 2.3836e-01, 3.3087e+00, 2.3410e+00, 2.4829e-01, 8.0588e-01,\n",
       "         3.5867e+00, 2.3183e+00, 7.7155e+00, 8.9385e-02, 1.1634e-01, 8.5129e-02,\n",
       "         4.6310e+00, 1.5862e+00, 9.7472e-01, 5.4057e-01, 1.1833e+00, 2.2843e-01,\n",
       "         2.5822e-01, 2.9086e+00, 6.1718e-01],\n",
       "        [9.0506e+00, 2.5685e+01, 2.9345e+00, 1.7219e-01, 5.1104e+00, 5.2522e+01,\n",
       "         1.3630e-01, 1.2996e-01, 3.1768e+00, 1.7328e+01, 1.7710e-01, 1.1272e-01,\n",
       "         8.1663e+00, 1.4997e-01, 2.5849e-01, 8.3271e+00, 1.4264e-01, 1.4878e-01,\n",
       "         6.7548e+01, 5.0151e-01, 1.7980e-01, 3.4996e+00, 1.3693e-01, 1.4596e-01,\n",
       "         1.2007e-01, 6.5583e+00, 1.0358e-01],\n",
       "        [3.1643e+00, 2.6834e+01, 5.5671e-02, 1.3488e+00, 8.1395e-02, 1.8131e+01,\n",
       "         6.0859e-02, 8.5275e-02, 2.1856e+01, 8.9011e+00, 1.1473e-01, 1.0385e+01,\n",
       "         3.7909e+00, 6.1973e-02, 6.8837e-02, 1.2494e+01, 7.8639e-02, 3.1236e-01,\n",
       "         2.4716e+00, 1.4779e-01, 1.1170e+00, 1.1168e+00, 6.5024e-02, 5.1011e-02,\n",
       "         1.1215e-01, 3.3952e+00, 1.2784e-01],\n",
       "        [1.0080e+01, 2.5471e+01, 5.2070e-02, 7.5706e-02, 2.9021e+00, 2.5080e+01,\n",
       "         9.9199e-02, 4.7443e-01, 2.2958e+00, 1.3170e+01, 1.6572e-01, 7.5697e-02,\n",
       "         1.1610e+00, 5.7293e-01, 5.9259e-01, 7.3808e+00, 4.2384e-02, 5.4188e-02,\n",
       "         8.2804e+00, 5.5324e-01, 8.8247e-02, 1.7872e+00, 3.1643e-01, 4.3494e-01,\n",
       "         3.6907e-02, 6.1878e+00, 5.4023e-02],\n",
       "        [1.6526e+01, 2.8172e+00, 5.0202e-01, 6.3479e-01, 1.5932e+00, 5.2735e+00,\n",
       "         3.4021e-01, 5.1862e-01, 6.3064e-01, 3.3939e+00, 2.2818e-01, 7.3852e-01,\n",
       "         1.3476e+01, 3.1906e+00, 1.1099e+01, 1.1161e+00, 3.4436e-01, 5.8554e-02,\n",
       "         8.1239e+00, 3.5724e+00, 2.4065e+00, 2.8627e-01, 1.9210e+00, 2.0743e-01,\n",
       "         5.4766e-01, 4.4395e+00, 7.5097e-01],\n",
       "        [1.5594e+01, 4.7639e+01, 4.1546e-01, 2.6740e-01, 3.5315e-01, 2.4101e+01,\n",
       "         8.4643e+00, 2.9291e-01, 4.7961e-01, 3.1420e+01, 3.6834e-01, 4.9107e-01,\n",
       "         3.6534e+00, 2.6982e-01, 5.3190e-01, 1.1635e+01, 4.0066e-01, 3.0476e-01,\n",
       "         2.2321e+01, 8.4198e-01, 3.1631e+00, 1.6945e+00, 2.6187e-01, 6.7760e-01,\n",
       "         3.4475e-01, 2.4718e+00, 5.1939e-01],\n",
       "        [6.0264e+00, 1.8518e+01, 2.0489e-01, 1.1872e-01, 1.0078e+00, 1.8743e+01,\n",
       "         1.2407e-01, 1.3478e+00, 2.0206e+01, 1.0641e+01, 1.8932e-01, 1.2499e-01,\n",
       "         1.7448e+00, 3.2367e-01, 1.4616e+00, 4.6192e+00, 1.2217e-01, 1.2267e-01,\n",
       "         1.1260e+01, 1.6316e+00, 1.6876e+00, 4.7318e+00, 1.4799e-01, 1.4045e+00,\n",
       "         9.7224e-02, 1.6880e+00, 1.2549e-01],\n",
       "        [5.9774e+01, 5.5679e+01, 1.9117e-01, 8.3462e-02, 5.7875e-01, 1.6714e+01,\n",
       "         7.8286e-02, 8.3141e-02, 6.6208e-02, 1.8079e+01, 2.0566e-01, 7.0363e-01,\n",
       "         4.5777e+00, 2.8898e+00, 3.4111e+00, 7.1092e+00, 6.8522e-02, 7.0928e-02,\n",
       "         5.0492e+00, 7.5351e-01, 1.7478e+00, 4.1061e+00, 9.5273e-01, 2.3444e-01,\n",
       "         5.9073e-02, 5.2726e+00, 4.7695e-01],\n",
       "        [8.1110e+00, 7.9676e+00, 3.5839e-01, 1.6586e+00, 1.4338e+00, 5.3867e+00,\n",
       "         3.2906e-01, 1.3947e+00, 3.0951e-01, 2.6714e-01, 2.4759e-01, 1.4501e+00,\n",
       "         4.3830e+00, 1.3914e+00, 6.9281e+00, 1.9161e+00, 1.7263e-01, 1.6937e-01,\n",
       "         2.7666e+00, 4.2885e+00, 1.7629e+00, 3.5513e-01, 8.7654e-01, 2.7947e-02,\n",
       "         2.8995e-01, 2.5385e+00, 9.0261e-01],\n",
       "        [6.3405e+00, 1.3279e+02, 2.1647e-01, 3.1039e-01, 3.3319e-01, 3.9623e+01,\n",
       "         1.2965e-01, 1.5820e-01, 3.9926e+00, 1.0671e+01, 2.4168e-01, 2.4600e-01,\n",
       "         6.8573e-01, 4.3452e-01, 2.1113e-01, 4.3141e+01, 1.6735e-01, 1.8011e-01,\n",
       "         7.7000e-01, 5.7136e-01, 1.9961e-01, 1.8158e+01, 4.0696e-01, 4.9270e-01,\n",
       "         1.2991e-01, 7.9290e-01, 1.5530e-01],\n",
       "        [1.2535e+01, 5.9880e+01, 8.1568e-02, 9.1584e-02, 1.0597e-01, 3.0947e+01,\n",
       "         8.8373e-02, 7.3371e-02, 1.0596e+01, 1.7588e+01, 8.6330e-02, 6.5498e-01,\n",
       "         4.7816e+00, 2.7758e-01, 8.6490e-01, 1.1877e+01, 7.1510e-02, 6.8606e-02,\n",
       "         3.7431e+00, 3.2584e+00, 5.4994e-01, 1.6996e+00, 1.0561e-01, 1.1442e+00,\n",
       "         7.2151e-02, 1.3088e+01, 9.9581e-02],\n",
       "        [2.4043e+01, 4.7998e+01, 9.4788e-01, 4.5305e-01, 2.5219e+00, 5.3451e+01,\n",
       "         3.9806e-01, 1.1972e-01, 3.4323e-01, 4.5381e+01, 1.1406e-01, 4.3472e-01,\n",
       "         2.4610e+01, 1.0943e+00, 2.5259e-01, 1.2660e+01, 2.6778e-01, 7.8292e-02,\n",
       "         3.2469e-01, 1.7167e+00, 1.4055e+00, 5.9258e+00, 1.3140e+00, 2.8827e-01,\n",
       "         4.9165e-02, 2.9057e+01, 1.8250e-01],\n",
       "        [1.7560e+01, 8.8226e+01, 3.7939e+00, 1.7142e+00, 7.9038e-01, 2.7850e+01,\n",
       "         9.0110e-02, 7.4445e-02, 1.7477e-01, 4.2774e+01, 2.1271e-01, 9.2810e-02,\n",
       "         1.6700e-01, 5.7023e+00, 6.5178e-01, 1.5379e+01, 1.2703e+00, 6.9075e-02,\n",
       "         3.2827e+00, 1.1676e+00, 1.4741e-01, 4.7140e+00, 1.2170e-01, 1.0598e-01,\n",
       "         7.6744e-02, 9.7571e+00, 3.4339e-01],\n",
       "        [5.7607e+01, 2.5358e+01, 6.9902e-02, 1.8131e+00, 5.9956e+00, 1.1575e+01,\n",
       "         9.3195e-02, 2.3242e+00, 2.1979e-01, 1.4693e+01, 3.7337e-01, 4.9270e-01,\n",
       "         1.6598e+00, 1.6002e-01, 1.6235e+01, 4.2238e+00, 4.8803e-02, 3.2360e-02,\n",
       "         3.7337e-01, 2.3668e+00, 3.7724e+00, 8.1646e-01, 4.6713e-01, 9.3323e-02,\n",
       "         5.6106e-02, 3.9598e+00, 1.2339e+00],\n",
       "        [5.7587e+00, 1.0032e+00, 9.4258e-01, 7.6745e-01, 1.2794e+00, 8.8870e-01,\n",
       "         2.2853e-01, 2.9591e-01, 1.1514e+00, 4.6433e-01, 1.0723e-01, 4.5759e-01,\n",
       "         4.1690e+00, 1.7576e+00, 1.6240e+01, 7.7419e-01, 6.3947e-01, 3.1586e-02,\n",
       "         7.1328e+00, 3.3944e+00, 7.9439e-01, 1.8519e+00, 1.1851e+00, 7.6745e-01,\n",
       "         3.0265e-01, 6.9335e-01, 3.6328e-01],\n",
       "        [2.9759e+00, 1.9504e+01, 2.4530e-01, 2.1881e-01, 1.7036e-01, 1.8378e+01,\n",
       "         2.0175e-01, 1.7874e-01, 1.9035e+01, 5.6114e+00, 2.0432e-01, 1.8774e-01,\n",
       "         1.3508e+00, 1.9639e-01, 7.3979e-02, 5.4235e+00, 3.5422e+00, 7.8394e-02,\n",
       "         1.4061e+01, 1.3428e+00, 1.4436e+00, 3.0690e-01, 1.2755e-01, 1.2566e-01,\n",
       "         1.8509e-01, 9.7805e-01, 1.2947e-01],\n",
       "        [1.8956e+01, 7.6750e+00, 8.3348e-01, 9.9987e-02, 2.5792e-01, 5.9304e-01,\n",
       "         8.0773e-01, 2.7345e-01, 6.7995e-01, 3.8782e+00, 4.9339e-01, 3.6847e-01,\n",
       "         1.1754e+00, 4.6008e-01, 2.3261e-01, 1.4969e+00, 1.1458e+00, 8.9203e-01,\n",
       "         1.4262e+00, 1.2234e+00, 3.6523e-01, 1.4544e+02, 3.6668e-01, 1.8347e+00,\n",
       "         3.9293e-01, 1.2055e+00, 6.4381e-01],\n",
       "        [8.6851e+00, 1.4860e+01, 2.5807e-01, 6.2397e-01, 1.1791e+00, 1.0704e+01,\n",
       "         5.8785e-02, 4.7889e-01, 7.6275e-01, 1.9130e+01, 1.5705e-01, 5.6720e-01,\n",
       "         2.6046e+00, 1.0214e+00, 8.8260e-01, 5.4808e+00, 8.8256e-02, 1.0057e-01,\n",
       "         2.6803e+00, 1.1980e+00, 1.3115e+00, 1.5891e+00, 5.0412e-01, 1.3184e-01,\n",
       "         2.8509e-02, 4.8753e+00, 1.4443e-01],\n",
       "        [1.9676e+01, 2.0215e+01, 3.4534e-01, 1.0033e+00, 1.4767e-01, 1.4878e+01,\n",
       "         5.8658e-02, 5.8704e-02, 2.1629e+01, 1.1510e+01, 5.7120e-02, 1.3739e+00,\n",
       "         4.6910e+00, 1.5086e+00, 3.9595e-01, 8.9340e+00, 8.5168e-01, 4.8289e-02,\n",
       "         9.1908e-01, 7.7554e+00, 1.2874e+01, 3.1083e+00, 2.2745e-01, 3.9603e-01,\n",
       "         4.3564e-02, 3.6134e+00, 1.6185e-01],\n",
       "        [2.1862e+01, 4.6524e+01, 1.0974e-01, 7.2306e-01, 9.8755e-02, 3.2425e+01,\n",
       "         1.2771e-01, 1.4187e-01, 2.9297e+01, 2.4083e+01, 1.6483e-01, 9.8855e-02,\n",
       "         6.0400e+00, 1.9093e-01, 9.5312e-01, 3.0204e+01, 9.8912e-02, 9.3304e-02,\n",
       "         1.5923e+01, 1.5480e+00, 1.6921e+01, 3.5005e+00, 6.3244e-01, 4.5562e-01,\n",
       "         1.4093e-01, 1.5425e+01, 4.7250e+00],\n",
       "        [2.4179e+00, 2.5428e+00, 1.6063e+00, 1.6063e+00, 2.1214e+00, 2.6364e+00,\n",
       "         2.9509e-01, 7.3221e-01, 9.0395e-01, 1.8873e+00, 2.1785e-01, 1.4503e+00,\n",
       "         4.6966e+00, 2.4023e+00, 4.2908e+00, 1.5912e-01, 2.4823e-01, 1.5787e-01,\n",
       "         6.4602e+00, 7.3966e+00, 1.2786e+00, 6.9101e-02, 5.7604e-01, 1.3410e+00,\n",
       "         5.2918e-01, 2.0336e-01, 7.0099e-01],\n",
       "        [1.1124e+01, 8.2257e+01, 2.5656e-01, 1.4368e-01, 2.1357e-01, 7.2756e+01,\n",
       "         1.9890e-01, 1.6092e-01, 1.9005e-01, 1.1679e+02, 1.3864e-01, 3.5851e-01,\n",
       "         1.4998e+00, 2.1131e-01, 7.2337e-01, 1.9472e+01, 2.0322e-01, 1.9383e-01,\n",
       "         5.9811e+00, 1.9780e-01, 1.3792e-01, 6.5772e-01, 6.3224e-01, 1.7996e-01,\n",
       "         1.7071e-01, 1.5363e+01, 1.2506e-01],\n",
       "        [6.7568e+00, 3.7734e+01, 1.7872e-01, 2.7614e-01, 9.6946e-01, 2.0017e+01,\n",
       "         3.7290e-01, 3.3299e-01, 2.9375e+00, 1.9882e+01, 2.1253e-01, 6.7939e-01,\n",
       "         1.5678e+00, 4.1259e-01, 7.7050e+00, 4.7216e+00, 2.8262e-01, 1.9758e-01,\n",
       "         2.8069e+00, 2.5174e+00, 9.8422e-01, 3.2226e+00, 2.5484e-01, 2.6485e-01,\n",
       "         2.8200e-01, 9.7357e+00, 3.2376e-01],\n",
       "        [2.2694e+01, 1.4195e+01, 2.6795e-01, 5.3088e-01, 3.9717e-01, 4.8466e+00,\n",
       "         4.4800e-01, 2.4173e-01, 3.0835e-01, 1.4055e+01, 2.8646e-01, 1.7987e-01,\n",
       "         5.2666e+00, 2.2184e-01, 2.2465e-01, 5.5463e+00, 2.2487e-01, 2.6768e-01,\n",
       "         2.4512e-01, 4.1451e+00, 9.5948e+00, 5.8785e-01, 2.4417e-01, 4.8611e-01,\n",
       "         5.1266e+00, 4.0023e+00, 2.4503e+00],\n",
       "        [2.6447e+01, 2.8239e+01, 3.5443e-01, 1.5144e+00, 3.5833e+00, 3.9655e+00,\n",
       "         1.5886e-01, 3.9401e-01, 2.8854e-01, 2.5291e+00, 3.0163e-01, 1.1322e+00,\n",
       "         1.4547e+01, 1.9493e+00, 2.4061e+01, 3.5702e+00, 1.9707e-01, 8.7574e-02,\n",
       "         3.8337e+00, 5.2833e+00, 1.3694e+00, 1.8570e+00, 1.3958e+00, 6.9283e-02,\n",
       "         3.6763e-01, 3.0171e-01, 1.0268e+00],\n",
       "        [1.3931e+01, 7.5178e+01, 3.0635e-01, 1.5243e-01, 2.3409e-01, 3.2568e+01,\n",
       "         1.4078e-01, 2.0369e-01, 3.6862e+00, 3.1781e+01, 2.1476e-01, 2.3888e-01,\n",
       "         1.0693e+01, 2.9829e+00, 3.3810e-01, 9.5552e+00, 2.5282e-01, 1.6595e-01,\n",
       "         2.7186e+00, 3.5417e-01, 3.5858e-01, 6.3159e+00, 2.4794e-01, 3.1514e-01,\n",
       "         2.1955e-01, 1.2793e+01, 3.8618e+00]], grad_fn=<ExpBackward0>)"
      ]
     },
     "execution_count": 1037,
     "metadata": {},
     "output_type": "execute_result"
    }
   ],
   "source": [
    "w.exp()"
   ]
  },
  {
   "cell_type": "code",
   "execution_count": null,
   "metadata": {},
   "outputs": [],
   "source": []
  }
 ],
 "metadata": {
  "kernelspec": {
   "display_name": "ml",
   "language": "python",
   "name": "python3"
  },
  "language_info": {
   "codemirror_mode": {
    "name": "ipython",
    "version": 3
   },
   "file_extension": ".py",
   "mimetype": "text/x-python",
   "name": "python",
   "nbconvert_exporter": "python",
   "pygments_lexer": "ipython3",
   "version": "3.10.13"
  }
 },
 "nbformat": 4,
 "nbformat_minor": 2
}
