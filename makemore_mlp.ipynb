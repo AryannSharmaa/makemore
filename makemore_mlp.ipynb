{
 "cells": [
  {
   "cell_type": "code",
   "execution_count": 31,
   "metadata": {},
   "outputs": [],
   "source": [
    "import torch\n",
    "import torch.nn.functional as F \n",
    "import matplotlib.pyplot as plt \n",
    "%matplotlib inline"
   ]
  },
  {
   "cell_type": "code",
   "execution_count": 32,
   "metadata": {},
   "outputs": [],
   "source": [
    "words=open(\"names.txt\",'r').read().splitlines()"
   ]
  },
  {
   "cell_type": "code",
   "execution_count": 43,
   "metadata": {},
   "outputs": [
    {
     "name": "stdout",
     "output_type": "stream",
     "text": [
      "{1: 'a', 2: 'b', 3: 'c', 4: 'd', 5: 'e', 6: 'f', 7: 'g', 8: 'h', 9: 'i', 10: 'j', 11: 'k', 12: 'l', 13: 'm', 14: 'n', 15: 'o', 16: 'p', 17: 'q', 18: 'r', 19: 's', 20: 't', 21: 'u', 22: 'v', 23: 'w', 24: 'x', 25: 'y', 26: 'z', 0: '.'}\n"
     ]
    }
   ],
   "source": [
    "chars=sorted(list(set(''.join(words))))   \n",
    "stoi={s: i+1 for i,s in enumerate(chars)}\n",
    "stoi['.']=0\n",
    "itos={i:s for s,i in stoi.items()}\n",
    "print(itos)"
   ]
  },
  {
   "cell_type": "code",
   "execution_count": 71,
   "metadata": {},
   "outputs": [
    {
     "data": {
      "text/plain": [
       "torch.Size([16, 3])"
      ]
     },
     "execution_count": 71,
     "metadata": {},
     "output_type": "execute_result"
    }
   ],
   "source": []
  },
  {
   "cell_type": "code",
   "execution_count": 66,
   "metadata": {},
   "outputs": [
    {
     "name": "stdout",
     "output_type": "stream",
     "text": [
      "emma\n",
      "olivia\n",
      "ava\n"
     ]
    }
   ],
   "source": [
    "block_size=3\n",
    "x,y=[],[]\n",
    "for w in words[:3]:\n",
    "    print(w)\n",
    "    context=[0]*block_size\n",
    "    for ch in w+'.':\n",
    "        ix=stoi[ch]\n",
    "        x.append(context)\n",
    "        y.append(ix)\n",
    "        #print(''.join(itos[i] for i in context),'---->',itos[ix])\n",
    "        context=context[1:]+[ix]\n",
    "\n",
    "x=torch.tensor(x)\n",
    "y=torch.tensor(y)    \n"
   ]
  },
  {
   "cell_type": "code",
   "execution_count": 76,
   "metadata": {},
   "outputs": [],
   "source": [
    "c=torch.randn((27,2))"
   ]
  },
  {
   "cell_type": "code",
   "execution_count": 89,
   "metadata": {},
   "outputs": [
    {
     "data": {
      "text/plain": [
       "tensor([[[ 0.0537, -0.7029],\n",
       "         [ 0.0537, -0.7029],\n",
       "         [ 0.0537, -0.7029]],\n",
       "\n",
       "        [[ 0.0537, -0.7029],\n",
       "         [ 0.0537, -0.7029],\n",
       "         [ 1.2129,  0.6266]],\n",
       "\n",
       "        [[ 0.0537, -0.7029],\n",
       "         [ 1.2129,  0.6266],\n",
       "         [-0.1777, -0.1511]],\n",
       "\n",
       "        [[ 1.2129,  0.6266],\n",
       "         [-0.1777, -0.1511],\n",
       "         [-0.1777, -0.1511]],\n",
       "\n",
       "        [[-0.1777, -0.1511],\n",
       "         [-0.1777, -0.1511],\n",
       "         [-0.4810, -0.2001]],\n",
       "\n",
       "        [[ 0.0537, -0.7029],\n",
       "         [ 0.0537, -0.7029],\n",
       "         [ 0.0537, -0.7029]],\n",
       "\n",
       "        [[ 0.0537, -0.7029],\n",
       "         [ 0.0537, -0.7029],\n",
       "         [-1.3952,  1.4379]],\n",
       "\n",
       "        [[ 0.0537, -0.7029],\n",
       "         [-1.3952,  1.4379],\n",
       "         [ 1.2244, -0.7719]],\n",
       "\n",
       "        [[-1.3952,  1.4379],\n",
       "         [ 1.2244, -0.7719],\n",
       "         [ 2.5039,  0.6186]],\n",
       "\n",
       "        [[ 1.2244, -0.7719],\n",
       "         [ 2.5039,  0.6186],\n",
       "         [-0.5139,  0.9510]],\n",
       "\n",
       "        [[ 2.5039,  0.6186],\n",
       "         [-0.5139,  0.9510],\n",
       "         [ 2.5039,  0.6186]],\n",
       "\n",
       "        [[-0.5139,  0.9510],\n",
       "         [ 2.5039,  0.6186],\n",
       "         [-0.4810, -0.2001]],\n",
       "\n",
       "        [[ 0.0537, -0.7029],\n",
       "         [ 0.0537, -0.7029],\n",
       "         [ 0.0537, -0.7029]],\n",
       "\n",
       "        [[ 0.0537, -0.7029],\n",
       "         [ 0.0537, -0.7029],\n",
       "         [-0.4810, -0.2001]],\n",
       "\n",
       "        [[ 0.0537, -0.7029],\n",
       "         [-0.4810, -0.2001],\n",
       "         [-0.5139,  0.9510]],\n",
       "\n",
       "        [[-0.4810, -0.2001],\n",
       "         [-0.5139,  0.9510],\n",
       "         [-0.4810, -0.2001]]])"
      ]
     },
     "execution_count": 89,
     "metadata": {},
     "output_type": "execute_result"
    }
   ],
   "source": [
    "c[x]"
   ]
  },
  {
   "cell_type": "code",
   "execution_count": null,
   "metadata": {},
   "outputs": [],
   "source": []
  },
  {
   "cell_type": "code",
   "execution_count": null,
   "metadata": {},
   "outputs": [],
   "source": []
  },
  {
   "cell_type": "code",
   "execution_count": null,
   "metadata": {},
   "outputs": [],
   "source": []
  },
  {
   "cell_type": "code",
   "execution_count": null,
   "metadata": {},
   "outputs": [],
   "source": []
  }
 ],
 "metadata": {
  "kernelspec": {
   "display_name": "ml",
   "language": "python",
   "name": "python3"
  },
  "language_info": {
   "codemirror_mode": {
    "name": "ipython",
    "version": 3
   },
   "file_extension": ".py",
   "mimetype": "text/x-python",
   "name": "python",
   "nbconvert_exporter": "python",
   "pygments_lexer": "ipython3",
   "version": "3.10.13"
  }
 },
 "nbformat": 4,
 "nbformat_minor": 2
}
