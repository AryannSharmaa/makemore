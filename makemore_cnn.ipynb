{
 "cells": [
  {
   "cell_type": "code",
   "execution_count": 1,
   "metadata": {},
   "outputs": [],
   "source": [
    "import torch\n",
    "import torch.nn.functional as F \n",
    "import matplotlib.pyplot as plt \n",
    "%matplotlib inline\n"
   ]
  },
  {
   "cell_type": "code",
   "execution_count": 2,
   "metadata": {},
   "outputs": [
    {
     "data": {
      "text/plain": [
       "27"
      ]
     },
     "execution_count": 2,
     "metadata": {},
     "output_type": "execute_result"
    }
   ],
   "source": [
    "words=open(\"names.txt\",'r').read().splitlines()\n",
    "chars=sorted(list(set(''.join(words))))\n",
    "stoi={s:i+1 for i,s in enumerate(chars)}\n",
    "stoi['.']=0\n",
    "itos={i:s for s,i in stoi.items()}\n",
    "vocab_size=len(itos)\n",
    "vocab_size"
   ]
  },
  {
   "cell_type": "code",
   "execution_count": 3,
   "metadata": {},
   "outputs": [],
   "source": [
    "import random   \n",
    "random.seed(42) \n",
    "random.shuffle(words)"
   ]
  },
  {
   "cell_type": "code",
   "execution_count": 210,
   "metadata": {},
   "outputs": [
    {
     "name": "stdout",
     "output_type": "stream",
     "text": [
      "torch.Size([182625, 8]) torch.Size([182625])\n",
      "torch.Size([22655, 8]) torch.Size([22655])\n",
      "torch.Size([22866, 8]) torch.Size([22866])\n"
     ]
    }
   ],
   "source": [
    "block_size=8 \n",
    "\n",
    "def build_dataset(words):\n",
    "    x,y=[],[]\n",
    "\n",
    "    for w in words:\n",
    "        context=[0]*block_size \n",
    "        for ch in w + '.':\n",
    "            ix=stoi[ch]\n",
    "            x.append(context)\n",
    "            y.append(ix)\n",
    "            context=context[1:]+[ix]\n",
    "    x=torch.tensor(x)\n",
    "    y=torch.tensor(y)\n",
    "    print(x.shape,y.shape)\n",
    "    return (x,y)\n",
    "\n",
    "n1=int(len(words)*0.8)\n",
    "n2=int(len(words)*0.9)\n",
    "xtr,ytr=build_dataset(words[:n1])\n",
    "xdev,ydev=build_dataset(words[n1:n2])\n",
    "xtest,ytest=build_dataset(words[n2:])\n"
   ]
  },
  {
   "cell_type": "code",
   "execution_count": 211,
   "metadata": {},
   "outputs": [
    {
     "name": "stdout",
     "output_type": "stream",
     "text": [
      "........ --> y\n",
      ".......y --> u\n",
      "......yu --> h\n",
      ".....yuh --> e\n",
      "....yuhe --> n\n",
      "...yuhen --> g\n",
      "..yuheng --> .\n",
      "........ --> d\n",
      ".......d --> i\n",
      "......di --> o\n",
      ".....dio --> n\n",
      "....dion --> d\n",
      "...diond --> r\n",
      "..diondr --> e\n",
      ".diondre --> .\n",
      "........ --> x\n",
      ".......x --> a\n",
      "......xa --> v\n",
      ".....xav --> i\n",
      "....xavi --> e\n"
     ]
    }
   ],
   "source": [
    "for x,y in zip(xtr[:20],ytr[:20]):\n",
    "    print(''.join(itos[ix.item()] for ix in x),\"-->\",itos[y.item()])"
   ]
  },
  {
   "cell_type": "code",
   "execution_count": 212,
   "metadata": {},
   "outputs": [],
   "source": [
    "class Linear:\n",
    "    def __init__(self,fan_in,fan_out,bias=True):\n",
    "        self.weight=torch.randn((fan_in,fan_out),generator=g)/fan_in**0.5\n",
    "        self.bias=torch.randn((fan_out)) if bias else None\n",
    "    def __call__(self,x):\n",
    "        self.out=x@self.weight\n",
    "        if self.bias is not None:\n",
    "            self.out+=self.bias \n",
    "        return self.out \n",
    "    def parameters(self):\n",
    "        return [self.weight]+([] if self.bias is None else [self.bias])\n",
    "\n",
    "class BatchNorm1d:\n",
    "    \n",
    "    def __init__(self,dim,eps=1e-5,momentum=0.1):\n",
    "        self.eps=eps \n",
    "        self.momentum=momentum \n",
    "        self.training=True \n",
    "\n",
    "        self.gamma=torch.ones(dim)\n",
    "        self.beta=torch.zeros(dim) \n",
    "\n",
    "        self.running_mean=torch.zeros(dim)\n",
    "        self.running_var=torch.ones(dim)\n",
    "\n",
    "    def __call__(self,x):\n",
    "        if self.training:\n",
    "            xmean=x.mean(0,keepdim=True)\n",
    "            xvar=x.var(0,keepdim=True)\n",
    "        else:\n",
    "            xmean=self.running_mean \n",
    "            xvar=self.running_var \n",
    "        xhat=(x-xmean)/torch.sqrt(xvar+self.eps)\n",
    "        self.out=self.gamma*xhat+self.beta \n",
    "        if self.training:\n",
    "            with torch.no_grad():\n",
    "                self.running_mean=(1-self.momentum)*self.running_mean+self.momentum*xmean\n",
    "                self.running_var=(1-self.momentum)*self.running_var+self.momentum*xvar \n",
    "        return self.out \n",
    "    \n",
    "    def parameters(self):\n",
    "        return [self.gamma,self.beta]\n",
    "    \n",
    "class Tanh:\n",
    "    def __call__(self,x):\n",
    "        self.out=torch.tanh(x)\n",
    "        return self.out \n",
    "    def parameters(self):\n",
    "        return []\n",
    "\n",
    "class Embedding:\n",
    "    def __init__(self,num_embeddings,embedding_dim):\n",
    "        self.weight=torch.randn((num_embeddings,embedding_dim)) \n",
    "    def __call__(self,IX):\n",
    "        self.out=self.weight[IX]\n",
    "        return self.out \n",
    "    def parameters(self):\n",
    "        return [self.weight]\n",
    "\n",
    "class Flatten:\n",
    "    def __call__(self,x):\n",
    "        self.out=x.view(x.shape[0],-1)\n",
    "        return self.out\n",
    "    def parameters(self):\n",
    "        return []\n",
    "\n",
    "class Sequential:\n",
    "    def __init__(self,layers):\n",
    "        self.layers=layers\n",
    "    def __call__(self,x):\n",
    "        for layer in self.layers:\n",
    "            x=layer(x)\n",
    "        self.out=x \n",
    "        return self.out\n",
    "    def parameters(self):\n",
    "        return [p for layer in self.layers for p in layer.parameters()]        \n",
    "\n",
    "\n"
   ]
  },
  {
   "cell_type": "code",
   "execution_count": 213,
   "metadata": {},
   "outputs": [
    {
     "name": "stdout",
     "output_type": "stream",
     "text": [
      "21424\n"
     ]
    }
   ],
   "source": [
    "n_embd=10 \n",
    "n_hidden=100 \n",
    "g=torch.Generator().manual_seed(2147483647)\n",
    "C=torch.randn((vocab_size,n_embd), generator=g)\n",
    "\n",
    "model=Sequential([Embedding(vocab_size,n_embd),\n",
    "        Flatten(),\n",
    "    Linear(n_embd*block_size,n_hidden,bias=False), BatchNorm1d(n_hidden),Tanh(),\n",
    "    Linear(n_hidden,n_hidden,bias=False), BatchNorm1d(n_hidden), Tanh(),\n",
    "    Linear(n_hidden,vocab_size,bias=False), BatchNorm1d(vocab_size),\n",
    "])\n",
    "\n",
    "with torch.no_grad():\n",
    "    layers[-1].gamma*=0.1 \n",
    "\n",
    "    for layer in layers[:-1]:\n",
    "        if isinstance(layer,Linear):\n",
    "            layer.weight*=1.0\n",
    "\n",
    "parameters=model.parameters()\n",
    "print(sum(p.nelement() for p in parameters))\n",
    "for p in parameters:\n",
    "    p.requires_grad=True \n",
    "\n",
    "\n",
    "    "
   ]
  },
  {
   "cell_type": "code",
   "execution_count": 214,
   "metadata": {},
   "outputs": [
    {
     "name": "stdout",
     "output_type": "stream",
     "text": [
      "      0/ 200000:  3.6500\n",
      "  10000/ 200000:  2.0514\n",
      "  20000/ 200000:  1.8646\n",
      "  30000/ 200000:  2.3996\n",
      "  40000/ 200000:  2.2818\n",
      "  50000/ 200000:  1.6921\n",
      "  60000/ 200000:  2.3223\n",
      "  70000/ 200000:  1.8598\n",
      "  80000/ 200000:  2.0164\n",
      "  90000/ 200000:  2.3533\n",
      " 100000/ 200000:  1.8452\n",
      " 110000/ 200000:  2.4336\n",
      " 120000/ 200000:  2.1515\n",
      " 130000/ 200000:  1.8058\n",
      " 140000/ 200000:  2.0410\n",
      " 150000/ 200000:  2.0499\n",
      " 160000/ 200000:  1.8694\n",
      " 170000/ 200000:  1.7901\n",
      " 180000/ 200000:  2.0111\n",
      " 190000/ 200000:  1.7445\n"
     ]
    }
   ],
   "source": [
    "max_steps=200000\n",
    "batch_size=32\n",
    "lossi=[]\n",
    "ud=[]\n",
    "\n",
    "for i in range(max_steps):\n",
    "    ix=torch.randint(0,xtr.shape[0],(batch_size,),generator=g)\n",
    "    Xb,Yb=xtr[ix],ytr[ix]\n",
    "    \n",
    "    #forward pass \n",
    "    logits=model(Xb)      \n",
    "    loss=F.cross_entropy(logits,Yb)\n",
    "    \n",
    "    # backward pass \n",
    "    for p in parameters:\n",
    "        p.grad=None \n",
    "    loss.backward()\n",
    "    \n",
    "    # update \n",
    "    lr=0.1 if i <150000 else 0.01 \n",
    "    for p in parameters:\n",
    "        p.data+=-lr * p.grad \n",
    "\n",
    "    if i %10000 ==0: \n",
    "        print(f'{i:7d}/{max_steps:7d}: {loss.item(): .4f}')\n",
    "    lossi.append(loss.log10().item())\n",
    "    with torch.no_grad():\n",
    "        ud.append([((lr*p.grad).std()/p.data.std()).log10().item() for p in parameters])\n",
    "    \n",
    "    # if i >=1000:\n",
    "    #     break"
   ]
  },
  {
   "cell_type": "code",
   "execution_count": 202,
   "metadata": {},
   "outputs": [
    {
     "data": {
      "text/plain": [
       "[<matplotlib.lines.Line2D at 0x73440cb6b730>]"
      ]
     },
     "execution_count": 202,
     "metadata": {},
     "output_type": "execute_result"
    },
    {
     "data": {
      "image/png": "[encoded data removed]",
      "text/plain": [
       "<Figure size 640x480 with 1 Axes>"
      ]
     },
     "metadata": {},
     "output_type": "display_data"
    }
   ],
   "source": [
    "plt.plot(torch.tensor(lossi).view(-1,1000).mean(1))"
   ]
  },
  {
   "cell_type": "code",
   "execution_count": 203,
   "metadata": {},
   "outputs": [],
   "source": [
    "for layer in model.layers:\n",
    "    layer.training=False"
   ]
  },
  {
   "cell_type": "code",
   "execution_count": 204,
   "metadata": {},
   "outputs": [
    {
     "name": "stdout",
     "output_type": "stream",
     "text": [
      "train 2.0482821464538574\n",
      "val 2.0981359481811523\n"
     ]
    }
   ],
   "source": [
    "@torch.no_grad() \n",
    "def split_loss(split):\n",
    "    x,y={\n",
    "        'train':(xtr,ytr),\n",
    "        'val':(xdev,ydev),\n",
    "        'test':(xtest,ytest),\n",
    "    }[split]\n",
    "    \n",
    "    \n",
    "    logits=model(x)\n",
    "    loss=F.cross_entropy(logits,y)\n",
    "    print(split,loss.item())\n",
    "\n",
    "\n",
    "split_loss('train')\n",
    "split_loss('val')\n",
    "    "
   ]
  },
  {
   "cell_type": "code",
   "execution_count": 209,
   "metadata": {},
   "outputs": [
    {
     "name": "stdout",
     "output_type": "stream",
     "text": [
      "jhyla.\n",
      "owaied.\n",
      "jascen.\n",
      "kiyah.\n",
      "kjleon.\n",
      "laj.\n",
      "jadyn.\n",
      "blan.\n",
      "sav.\n",
      "cam.\n",
      "breanna.\n",
      "yialus.\n",
      "walzion.\n",
      "fetz.\n",
      "sai.\n",
      "lnia.\n",
      "bryn.\n",
      "tiyannesira.\n",
      "lyyson.\n",
      "kee.\n"
     ]
    }
   ],
   "source": [
    "g = torch.Generator().manual_seed(2147483647 + 4)\n",
    "for _ in range(20):\n",
    "    out=[]\n",
    "    context=[0]*block_size \n",
    "    while True:\n",
    "        x=[torch.tensor([context])]\n",
    "        logits=model(x)\n",
    "        probs=F.softmax(logits,dim=1)\n",
    "        ix=torch.multinomial(probs,num_samples=1,generator=g).item()\n",
    "        context=context[1:]+[ix] \n",
    "        out.append(ix)\n",
    "        if ix==0:\n",
    "            break \n",
    "    print(''.join(itos[i] for i in out))\n"
   ]
  },
  {
   "cell_type": "code",
   "execution_count": 183,
   "metadata": {},
   "outputs": [],
   "source": [
    "e=torch.randn(4,8,2)\n"
   ]
  },
  {
   "cell_type": "code",
   "execution_count": 197,
   "metadata": {},
   "outputs": [
    {
     "data": {
      "text/plain": [
       "tensor([[[-1.1888,  1.1853,  0.1336,  1.4479],\n",
       "         [-0.7281,  0.5876, -0.3590,  1.4208],\n",
       "         [ 0.3031,  0.7373,  1.0249, -1.5797],\n",
       "         [-0.8609,  0.9390,  1.6297,  0.1165]],\n",
       "\n",
       "        [[-0.6505, -1.0839, -1.9801, -0.0572],\n",
       "         [-0.1947,  0.2779,  0.5693,  1.7241],\n",
       "         [ 0.0486, -0.1466,  0.4597,  0.5189],\n",
       "         [ 0.8434, -0.2672,  1.5838,  0.3616]],\n",
       "\n",
       "        [[ 0.7754, -0.2861,  0.7337,  0.3109],\n",
       "         [-0.4622, -0.0828,  1.2457, -0.2236],\n",
       "         [-0.3389, -0.8510,  0.2117,  2.0274],\n",
       "         [-0.6371, -0.9957, -0.2822,  0.3226]],\n",
       "\n",
       "        [[-0.1193, -0.8845, -0.4852,  0.2287],\n",
       "         [-1.7908,  1.0058, -1.5909,  0.7137],\n",
       "         [-0.3841,  1.3215,  0.6612,  0.6095],\n",
       "         [ 0.3864,  2.8574, -0.5519, -0.9656]]])"
      ]
     },
     "execution_count": 197,
     "metadata": {},
     "output_type": "execute_result"
    }
   ],
   "source": [
    "torch.cat([e[:,::2,:],e[:,1::2,:]],dim=2)"
   ]
  },
  {
   "cell_type": "code",
   "execution_count": 201,
   "metadata": {},
   "outputs": [
    {
     "data": {
      "text/plain": [
       "tensor([[[-1.1888,  1.1853],\n",
       "         [ 0.1336,  1.4479],\n",
       "         [-0.7281,  0.5876],\n",
       "         [-0.3590,  1.4208],\n",
       "         [ 0.3031,  0.7373],\n",
       "         [ 1.0249, -1.5797],\n",
       "         [-0.8609,  0.9390],\n",
       "         [ 1.6297,  0.1165]],\n",
       "\n",
       "        [[-0.6505, -1.0839],\n",
       "         [-1.9801, -0.0572],\n",
       "         [-0.1947,  0.2779],\n",
       "         [ 0.5693,  1.7241],\n",
       "         [ 0.0486, -0.1466],\n",
       "         [ 0.4597,  0.5189],\n",
       "         [ 0.8434, -0.2672],\n",
       "         [ 1.5838,  0.3616]],\n",
       "\n",
       "        [[ 0.7754, -0.2861],\n",
       "         [ 0.7337,  0.3109],\n",
       "         [-0.4622, -0.0828],\n",
       "         [ 1.2457, -0.2236],\n",
       "         [-0.3389, -0.8510],\n",
       "         [ 0.2117,  2.0274],\n",
       "         [-0.6371, -0.9957],\n",
       "         [-0.2822,  0.3226]],\n",
       "\n",
       "        [[-0.1193, -0.8845],\n",
       "         [-0.4852,  0.2287],\n",
       "         [-1.7908,  1.0058],\n",
       "         [-1.5909,  0.7137],\n",
       "         [-0.3841,  1.3215],\n",
       "         [ 0.6612,  0.6095],\n",
       "         [ 0.3864,  2.8574],\n",
       "         [-0.5519, -0.9656]]])"
      ]
     },
     "execution_count": 201,
     "metadata": {},
     "output_type": "execute_result"
    }
   ],
   "source": [
    "e"
   ]
  }
 ],
 "metadata": {
  "kernelspec": {
   "display_name": "ml",
   "language": "python",
   "name": "python3"
  },
  "language_info": {
   "codemirror_mode": {
    "name": "ipython",
    "version": 3
   },
   "file_extension": ".py",
   "mimetype": "text/x-python",
   "name": "python",
   "nbconvert_exporter": "python",
   "pygments_lexer": "ipython3",
   "version": "3.10.13"
  }
 },
 "nbformat": 4,
 "nbformat_minor": 2
}
