{
 "cells": [
  {
   "cell_type": "code",
   "execution_count": 1,
   "metadata": {},
   "outputs": [],
   "source": [
    "import torch\n",
    "import torch.nn.functional as F \n",
    "import matplotlib.pyplot as plt \n",
    "%matplotlib inline\n"
   ]
  },
  {
   "cell_type": "code",
   "execution_count": 2,
   "metadata": {},
   "outputs": [
    {
     "data": {
      "text/plain": [
       "27"
      ]
     },
     "execution_count": 2,
     "metadata": {},
     "output_type": "execute_result"
    }
   ],
   "source": [
    "words=open(\"names.txt\",'r').read().splitlines()\n",
    "chars=sorted(list(set(''.join(words))))\n",
    "stoi={s:i+1 for i,s in enumerate(chars)}\n",
    "stoi['.']=0\n",
    "itos={i:s for s,i in stoi.items()}\n",
    "vocab_size=len(itos)\n",
    "vocab_size"
   ]
  },
  {
   "cell_type": "code",
   "execution_count": 3,
   "metadata": {},
   "outputs": [],
   "source": [
    "import random   \n",
    "random.seed(42) \n",
    "random.shuffle(words)"
   ]
  },
  {
   "cell_type": "code",
   "execution_count": 210,
   "metadata": {},
   "outputs": [
    {
     "name": "stdout",
     "output_type": "stream",
     "text": [
      "torch.Size([182625, 8]) torch.Size([182625])\n",
      "torch.Size([22655, 8]) torch.Size([22655])\n",
      "torch.Size([22866, 8]) torch.Size([22866])\n"
     ]
    }
   ],
   "source": [
    "block_size=8 \n",
    "\n",
    "def build_dataset(words):\n",
    "    x,y=[],[]\n",
    "\n",
    "    for w in words:\n",
    "        context=[0]*block_size \n",
    "        for ch in w + '.':\n",
    "            ix=stoi[ch]\n",
    "            x.append(context)\n",
    "            y.append(ix)\n",
    "            context=context[1:]+[ix]\n",
    "    x=torch.tensor(x)\n",
    "    y=torch.tensor(y)\n",
    "    print(x.shape,y.shape)\n",
    "    return (x,y)\n",
    "\n",
    "n1=int(len(words)*0.8)\n",
    "n2=int(len(words)*0.9)\n",
    "xtr,ytr=build_dataset(words[:n1])\n",
    "xdev,ydev=build_dataset(words[n1:n2])\n",
    "xtest,ytest=build_dataset(words[n2:])\n"
   ]
  },
  {
   "cell_type": "code",
   "execution_count": 211,
   "metadata": {},
   "outputs": [
    {
     "name": "stdout",
     "output_type": "stream",
     "text": [
      "........ --> y\n",
      ".......y --> u\n",
      "......yu --> h\n",
      ".....yuh --> e\n",
      "....yuhe --> n\n",
      "...yuhen --> g\n",
      "..yuheng --> .\n",
      "........ --> d\n",
      ".......d --> i\n",
      "......di --> o\n",
      ".....dio --> n\n",
      "....dion --> d\n",
      "...diond --> r\n",
      "..diondr --> e\n",
      ".diondre --> .\n",
      "........ --> x\n",
      ".......x --> a\n",
      "......xa --> v\n",
      ".....xav --> i\n",
      "....xavi --> e\n"
     ]
    }
   ],
   "source": [
    "for x,y in zip(xtr[:20],ytr[:20]):\n",
    "    print(''.join(itos[ix.item()] for ix in x),\"-->\",itos[y.item()])"
   ]
  },
  {
   "cell_type": "code",
   "execution_count": 333,
   "metadata": {},
   "outputs": [],
   "source": [
    "class Linear:\n",
    "    def __init__(self,fan_in,fan_out,bias=True):\n",
    "        self.weight=torch.randn((fan_in,fan_out),generator=g)/fan_in**0.5\n",
    "        self.bias=torch.randn((fan_out)) if bias else None\n",
    "    def __call__(self,x):\n",
    "        self.out=x@self.weight\n",
    "        if self.bias is not None:\n",
    "            self.out+=self.bias \n",
    "        return self.out \n",
    "    def parameters(self):\n",
    "        return [self.weight]+([] if self.bias is None else [self.bias])\n",
    "\n",
    "class BatchNorm1d:\n",
    "    \n",
    "    def __init__(self,dim,eps=1e-5,momentum=0.1):\n",
    "        self.eps=eps \n",
    "        self.momentum=momentum \n",
    "        self.training=True \n",
    "\n",
    "        self.gamma=torch.ones(dim)\n",
    "        self.beta=torch.zeros(dim) \n",
    "\n",
    "        self.running_mean=torch.zeros(dim)\n",
    "        self.running_var=torch.ones(dim)\n",
    "\n",
    "    def __call__(self,x):\n",
    "        if self.training:\n",
    "            if x.ndim==2:\n",
    "                dim=0\n",
    "            elif x.ndim==3:\n",
    "                dim=(0,1)\n",
    "            xmean=x.mean(dim,keepdim=True)\n",
    "            xvar=x.var(dim,keepdim=True)\n",
    "        else:\n",
    "            xmean=self.running_mean \n",
    "            xvar=self.running_var \n",
    "        xhat=(x-xmean)/torch.sqrt(xvar+self.eps)\n",
    "        self.out=self.gamma*xhat+self.beta \n",
    "        if self.training:\n",
    "            with torch.no_grad():\n",
    "                self.running_mean=(1-self.momentum)*self.running_mean+self.momentum*xmean\n",
    "                self.running_var=(1-self.momentum)*self.running_var+self.momentum*xvar \n",
    "        return self.out \n",
    "    \n",
    "    def parameters(self):\n",
    "        return [self.gamma,self.beta]\n",
    "    \n",
    "class Tanh:\n",
    "    def __call__(self,x):\n",
    "        self.out=torch.tanh(x)\n",
    "        return self.out \n",
    "    def parameters(self):\n",
    "        return []\n",
    "\n",
    "class Embedding:\n",
    "    def __init__(self,num_embeddings,embedding_dim):\n",
    "        self.weight=torch.randn((num_embeddings,embedding_dim)) \n",
    "    def __call__(self,IX):\n",
    "        self.out=self.weight[IX]\n",
    "        return self.out \n",
    "    def parameters(self):\n",
    "        return [self.weight]\n",
    "\n",
    "class Flattenconsecutive:\n",
    "    def __init__(self,n):\n",
    "        self.n=n\n",
    "    def __call__(self,x):\n",
    "        B,T,C=x.shape\n",
    "        x=x.view(B,T//self.n,C*self.n)\n",
    "        if x.shape[1]==1:\n",
    "            x=x.squeeze()\n",
    "        self.out=x\n",
    "        return self.out\n",
    "    def parameters(self):\n",
    "        return []\n",
    "\n",
    "class Sequential:\n",
    "    def __init__(self,layers):\n",
    "        self.layers=layers\n",
    "    def __call__(self,x):\n",
    "        for layer in self.layers:\n",
    "            x=layer(x)\n",
    "        self.out=x \n",
    "        return self.out\n",
    "    def parameters(self):\n",
    "        return [p for layer in self.layers for p in layer.parameters()]        \n",
    "\n",
    "\n"
   ]
  },
  {
   "cell_type": "code",
   "execution_count": 334,
   "metadata": {},
   "outputs": [
    {
     "name": "stdout",
     "output_type": "stream",
     "text": [
      "22397\n"
     ]
    }
   ],
   "source": [
    "n_embd=10 \n",
    "n_hidden=68\n",
    "g=torch.Generator().manual_seed(2147483647)\n",
    "C=torch.randn((vocab_size,n_embd), generator=g)\n",
    "\n",
    "model=Sequential([\n",
    "        Embedding(vocab_size,n_embd),\n",
    "        Flattenconsecutive(2),Linear(n_embd*2,n_hidden,bias=False), BatchNorm1d(n_hidden),Tanh(),\n",
    "        Flattenconsecutive(2),Linear(n_hidden*2,n_hidden,bias=False), BatchNorm1d(n_hidden), Tanh(),\n",
    "        Flattenconsecutive(2),Linear(n_hidden*2,n_hidden,bias=False), BatchNorm1d(n_hidden), Tanh(),\n",
    "        Linear(n_hidden,vocab_size),\n",
    "])\n",
    "\n",
    "with torch.no_grad():\n",
    "    model.layers[-1].weight*=0.1 \n",
    "\n",
    "\n",
    "parameters=model.parameters()\n",
    "print(sum(p.nelement() for p in parameters))\n",
    "for p in parameters:\n",
    "    p.requires_grad=True \n",
    "\n",
    "\n",
    "    "
   ]
  },
  {
   "cell_type": "code",
   "execution_count": 335,
   "metadata": {},
   "outputs": [
    {
     "name": "stdout",
     "output_type": "stream",
     "text": [
      "      0/ 200000:  3.6357\n",
      "  10000/ 200000:  2.2786\n",
      "  20000/ 200000:  1.9830\n",
      "  30000/ 200000:  2.0436\n",
      "  40000/ 200000:  2.3736\n",
      "  50000/ 200000:  1.9124\n",
      "  60000/ 200000:  1.7396\n",
      "  70000/ 200000:  1.9126\n",
      "  80000/ 200000:  1.8565\n",
      "  90000/ 200000:  2.1791\n",
      " 100000/ 200000:  1.9584\n",
      " 110000/ 200000:  2.1970\n",
      " 120000/ 200000:  1.9724\n",
      " 130000/ 200000:  2.1749\n",
      " 140000/ 200000:  1.8355\n",
      " 150000/ 200000:  1.6351\n",
      " 160000/ 200000:  1.9229\n",
      " 170000/ 200000:  1.7515\n",
      " 180000/ 200000:  1.8184\n",
      " 190000/ 200000:  1.9645\n"
     ]
    }
   ],
   "source": [
    "max_steps=200000\n",
    "batch_size=32\n",
    "lossi=[]\n",
    "ud=[]\n",
    "\n",
    "for i in range(max_steps):\n",
    "    ix=torch.randint(0,xtr.shape[0],(batch_size,),generator=g)\n",
    "    Xb,Yb=xtr[ix],ytr[ix]\n",
    "    \n",
    "    #forward pass \n",
    "    logits=model(Xb)      \n",
    "    loss=F.cross_entropy(logits,Yb)\n",
    "    \n",
    "    # backward pass \n",
    "    for p in parameters:\n",
    "        p.grad=None \n",
    "    loss.backward()\n",
    "    \n",
    "    # update \n",
    "    lr=0.1 if i <150000 else 0.01 \n",
    "    for p in parameters:\n",
    "        p.data+=-lr * p.grad \n",
    "\n",
    "    if i %10000 ==0: \n",
    "        print(f'{i:7d}/{max_steps:7d}: {loss.item(): .4f}')\n",
    "    lossi.append(loss.log10().item())\n",
    "    with torch.no_grad():\n",
    "        ud.append([((lr*p.grad).std()/p.data.std()).log10().item() for p in parameters])\n",
    "    \n",
    "    # if i >=1000:\n",
    "    #     break"
   ]
  },
  {
   "cell_type": "code",
   "execution_count": 336,
   "metadata": {},
   "outputs": [
    {
     "data": {
      "text/plain": [
       "[<matplotlib.lines.Line2D at 0x73440ccfd4e0>]"
      ]
     },
     "execution_count": 336,
     "metadata": {},
     "output_type": "execute_result"
    },
    {
     "data": {
      "image/png": "[encoded data removed]",
      "text/plain": [
       "<Figure size 640x480 with 1 Axes>"
      ]
     },
     "metadata": {},
     "output_type": "display_data"
    }
   ],
   "source": [
    "plt.plot(torch.tensor(lossi).view(-1,1000).mean(1))"
   ]
  },
  {
   "cell_type": "code",
   "execution_count": 337,
   "metadata": {},
   "outputs": [],
   "source": [
    "for layer in model.layers:\n",
    "    layer.training=False"
   ]
  },
  {
   "cell_type": "code",
   "execution_count": 338,
   "metadata": {},
   "outputs": [
    {
     "name": "stdout",
     "output_type": "stream",
     "text": [
      "train 1.9112673997879028\n",
      "val 2.0200703144073486\n"
     ]
    }
   ],
   "source": [
    "@torch.no_grad() \n",
    "def split_loss(split):\n",
    "    x,y={\n",
    "        'train':(xtr,ytr),\n",
    "        'val':(xdev,ydev),\n",
    "        'test':(xtest,ytest),\n",
    "    }[split]\n",
    "    \n",
    "    \n",
    "    logits=model(x)\n",
    "    loss=F.cross_entropy(logits,y)\n",
    "    print(split,loss.item())\n",
    "\n",
    "\n",
    "split_loss('train')\n",
    "split_loss('val')\n",
    "    "
   ]
  },
  {
   "cell_type": "code",
   "execution_count": 341,
   "metadata": {},
   "outputs": [
    {
     "name": "stdout",
     "output_type": "stream",
     "text": [
      "lylinn.\n",
      "siahla.\n",
      "ari.\n",
      "raka.\n",
      "siren.\n",
      "kamreig.\n",
      "chrise.\n",
      "sade.\n",
      "kashtin.\n",
      "maibrayl.\n",
      "teovelype.\n",
      "eibhnis.\n",
      "millah.\n",
      "ariena.\n",
      "emmad.\n",
      "jurrin.\n",
      "amyiah.\n",
      "oluwa.\n",
      "kayan.\n",
      "delmara.\n"
     ]
    }
   ],
   "source": [
    "g = torch.Generator().manual_seed(2147483647 + 2)\n",
    "for _ in range(20):\n",
    "    out=[]\n",
    "    context=[0]*block_size \n",
    "    while True:\n",
    "        x=[torch.tensor([context])]\n",
    "        logits=model(x)\n",
    "        probs=F.softmax(logits,dim=1)\n",
    "        ix=torch.multinomial(probs,num_samples=1,generator=g).item()\n",
    "        context=context[1:]+[ix] \n",
    "        out.append(ix)\n",
    "        if ix==0:\n",
    "            break \n",
    "    print(''.join(itos[i] for i in out))\n"
   ]
  },
  {
   "cell_type": "code",
   "execution_count": 238,
   "metadata": {},
   "outputs": [],
   "source": [
    "e=torch.randn(4,8,2)\n"
   ]
  },
  {
   "cell_type": "code",
   "execution_count": 235,
   "metadata": {},
   "outputs": [
    {
     "data": {
      "text/plain": [
       "torch.Size([4, 4, 20])"
      ]
     },
     "execution_count": 235,
     "metadata": {},
     "output_type": "execute_result"
    }
   ],
   "source": [
    "torch.cat([e[:,::2,:],e[:,1::2,:]],dim=2).shape"
   ]
  },
  {
   "cell_type": "code",
   "execution_count": 320,
   "metadata": {},
   "outputs": [
    {
     "data": {
      "text/plain": [
       "3"
      ]
     },
     "execution_count": 320,
     "metadata": {},
     "output_type": "execute_result"
    }
   ],
   "source": [
    "e.ndim"
   ]
  },
  {
   "cell_type": "code",
   "execution_count": 306,
   "metadata": {},
   "outputs": [
    {
     "name": "stdout",
     "output_type": "stream",
     "text": [
      "torch.Size([32, 8, 10])\n",
      "torch.Size([32, 4, 20])\n",
      "torch.Size([32, 4, 100])\n",
      "torch.Size([32, 4, 100])\n",
      "torch.Size([32, 4, 100])\n",
      "torch.Size([32, 2, 200])\n",
      "torch.Size([32, 2, 100])\n",
      "torch.Size([32, 2, 100])\n",
      "torch.Size([32, 2, 100])\n",
      "torch.Size([32, 200])\n",
      "torch.Size([32, 100])\n",
      "torch.Size([32, 100])\n",
      "torch.Size([32, 100])\n",
      "torch.Size([32, 27])\n"
     ]
    }
   ],
   "source": [
    "for layer in model.layers:\n",
    "    print(layer.out.shape)"
   ]
  }
 ],
 "metadata": {
  "kernelspec": {
   "display_name": "ml",
   "language": "python",
   "name": "python3"
  },
  "language_info": {
   "codemirror_mode": {
    "name": "ipython",
    "version": 3
   },
   "file_extension": ".py",
   "mimetype": "text/x-python",
   "name": "python",
   "nbconvert_exporter": "python",
   "pygments_lexer": "ipython3",
   "version": "3.10.13"
  }
 },
 "nbformat": 4,
 "nbformat_minor": 2
}
