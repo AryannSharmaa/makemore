{
 "cells": [
  {
   "cell_type": "code",
   "execution_count": 15,
   "metadata": {},
   "outputs": [],
   "source": [
    "import torch\n",
    "import torch.nn.functional as F \n",
    "import matplotlib as plt \n",
    "%matplotlib inline\n"
   ]
  },
  {
   "cell_type": "code",
   "execution_count": 28,
   "metadata": {},
   "outputs": [
    {
     "data": {
      "text/plain": [
       "27"
      ]
     },
     "execution_count": 28,
     "metadata": {},
     "output_type": "execute_result"
    }
   ],
   "source": [
    "words=open(\"names.txt\",'r').read().splitlines()\n",
    "chars=sorted(list(set(''.join(words))))\n",
    "stoi={s:i+1 for i,s in enumerate(chars)}\n",
    "stoi['.']=0\n",
    "itos={i:s for s,i in stoi.items()}\n",
    "vocab_size=len(itos)\n",
    "vocab_size"
   ]
  },
  {
   "cell_type": "code",
   "execution_count": 17,
   "metadata": {},
   "outputs": [],
   "source": [
    "import random   \n",
    "random.seed(42) \n",
    "random.shuffle(words)"
   ]
  },
  {
   "cell_type": "code",
   "execution_count": 63,
   "metadata": {},
   "outputs": [
    {
     "name": "stdout",
     "output_type": "stream",
     "text": [
      "torch.Size([182778, 3]) torch.Size([182778])\n",
      "torch.Size([22633, 3]) torch.Size([22633])\n",
      "torch.Size([22735, 3]) torch.Size([22735])\n"
     ]
    }
   ],
   "source": [
    "block_size=3 \n",
    "\n",
    "def build_dataset(words):\n",
    "    x,y=[],[]\n",
    "\n",
    "    for w in words:\n",
    "        context=[0]*block_size \n",
    "        for ch in w + '.':\n",
    "            ix=stoi[ch]\n",
    "            x.append(context)\n",
    "            y.append(ix)\n",
    "            context=context[1:]+[ix]\n",
    "    x=torch.tensor(x)\n",
    "    y=torch.tensor(y)\n",
    "    print(x.shape,y.shape)\n",
    "    return (x,y)\n",
    "\n",
    "n1=int(len(words)*0.8)\n",
    "n2=int(len(words)*0.9)\n",
    "xtr,ytr=build_dataset(words[:n1])\n",
    "xdev,ydev=build_dataset(words[n1:n2])\n",
    "xtest,ytest=build_dataset(words[n2:])\n"
   ]
  },
  {
   "cell_type": "code",
   "execution_count": 64,
   "metadata": {},
   "outputs": [
    {
     "name": "stdout",
     "output_type": "stream",
     "text": [
      "['.', '.', '.'] a\n",
      "['.', '.', 'a'] m\n",
      "['.', 'a', 'm'] r\n",
      "['a', 'm', 'r'] o\n",
      "['m', 'r', 'o'] m\n",
      "['r', 'o', 'm'] .\n"
     ]
    }
   ],
   "source": [
    "for i in range(6):\n",
    "    print([(itos[ch.item()]) for ch in xdev[i]],itos[ydev[i].item()])\n",
    "    "
   ]
  },
  {
   "cell_type": "code",
   "execution_count": null,
   "metadata": {},
   "outputs": [],
   "source": [
    "class Linear:\n",
    "    def __init__(self,fan_in,fan_out,bias=True):\n",
    "        self.weight=torch.randn((fan_in,fan_out))/fan_in**0.5\n",
    "        self.bias=torch.randn((fan_out)) if bias else None\n",
    "    def __call__(self,x):\n",
    "        self.out=x@self.weight\n",
    "        if self.bias is not None:\n",
    "            self.out+=self.bias \n",
    "        return self.out \n",
    "    def parameters(self):\n",
    "        return [self.weight]+([] if self.bias is None else [self.bias])\n",
    "\n",
    "class BatchNorm1d:\n",
    "    \n",
    "    def __init__(self,dim,eps=1e-5,momentum=0.1):\n",
    "        self.eps=eps \n",
    "        self.momentum=momentum \n",
    "        self.training=True \n",
    "\n",
    "        self.gamma=torch.ones(dim)\n",
    "        self.beta=torch.zeros(dim) \n",
    "\n",
    "        self.running_mean=torch.zeros(dim)\n",
    "        self.running_var=torch.ones(dim)\n",
    "\n",
    "    def __call__(self,x):\n",
    "        if self.training:\n",
    "            xmean=x.mean(0,keepdim=True)\n",
    "            xvar=x.var(0,keepdim=True)\n",
    "        else:\n",
    "            xmean=self.running_mean \n",
    "            xvar=self.running_var \n",
    "        xhat=(x-xmean)/torch.sqrt(xvar+self.eps)\n",
    "        self.out=self.gamma*xhat+self.beta \n",
    "        if self.training:\n",
    "            with torch.no_grad():\n",
    "                self.running_mean=(1-self.momentum)*self.running_mean+self.momentum*xmean\n",
    "                self.running_var=(1-self.momentum)*self.running_var+self.momentum*xvar \n",
    "            return self.out \n",
    "    def parameters(self):\n",
    "        return [self.gamma,self.beta]\n",
    "    \n",
    "class Tanh:\n",
    "    def __call__(self,x):\n",
    "        self.out=torch.tanh(x)\n",
    "        return self.out \n",
    "    def parameters(sefl):\n",
    "        return []\n",
    "    \n",
    "\n",
    "n_embd=10 \n",
    "n_hidden=100 \n",
    "g=torch.Generator().manual_seed(2147483647)\n",
    "c=torch.randn((vocab_size,n_embd), generator=g)\n",
    "\n",
    "layers=[\n",
    "    Linear(n_embd*block_size,n_hidden,bias=False), BatchNorm1d(n_hidden),Tanh(),\n",
    "    Linear()\n",
    "]\n",
    "\n",
    "    "
   ]
  },
  {
   "cell_type": "code",
   "execution_count": null,
   "metadata": {},
   "outputs": [],
   "source": []
  },
  {
   "cell_type": "code",
   "execution_count": null,
   "metadata": {},
   "outputs": [],
   "source": []
  }
 ],
 "metadata": {
  "kernelspec": {
   "display_name": "ml",
   "language": "python",
   "name": "python3"
  },
  "language_info": {
   "codemirror_mode": {
    "name": "ipython",
    "version": 3
   },
   "file_extension": ".py",
   "mimetype": "text/x-python",
   "name": "python",
   "nbconvert_exporter": "python",
   "pygments_lexer": "ipython3",
   "version": "3.10.13"
  }
 },
 "nbformat": 4,
 "nbformat_minor": 2
}
