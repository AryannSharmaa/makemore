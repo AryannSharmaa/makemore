{
 "cells": [
  {
   "cell_type": "code",
   "execution_count": 1,
   "metadata": {},
   "outputs": [],
   "source": [
    "import torch\n",
    "import torch.nn.functional as F \n",
    "import matplotlib.pyplot as plt \n",
    "%matplotlib inline"
   ]
  },
  {
   "cell_type": "code",
   "execution_count": 2,
   "metadata": {},
   "outputs": [],
   "source": [
    "words=open(\"names.txt\",'r').read().splitlines()"
   ]
  },
  {
   "cell_type": "code",
   "execution_count": 7,
   "metadata": {},
   "outputs": [
    {
     "name": "stdout",
     "output_type": "stream",
     "text": [
      "27\n",
      "{1: 'a', 2: 'b', 3: 'c', 4: 'd', 5: 'e', 6: 'f', 7: 'g', 8: 'h', 9: 'i', 10: 'j', 11: 'k', 12: 'l', 13: 'm', 14: 'n', 15: 'o', 16: 'p', 17: 'q', 18: 'r', 19: 's', 20: 't', 21: 'u', 22: 'v', 23: 'w', 24: 'x', 25: 'y', 26: 'z', 0: '.'}\n"
     ]
    }
   ],
   "source": [
    "chars=sorted(list(set(''.join(words))))   \n",
    "stoi={s: i+1 for i,s in enumerate(chars)}\n",
    "stoi['.']=0\n",
    "itos={i:s for s,i in stoi.items()}\n",
    "vocab_size=len(itos)\n",
    "print(vocab_size)\n",
    "print(itos)"
   ]
  },
  {
   "cell_type": "code",
   "execution_count": 9,
   "metadata": {},
   "outputs": [],
   "source": [
    "block_size=3\n",
    "def create_dataset(words):\n",
    "    \n",
    "    x,y=[],[]\n",
    "    for w in words:\n",
    "        context=[0]*block_size\n",
    "        for ch in w+'.':\n",
    "            ix=stoi[ch]\n",
    "            x.append(context)\n",
    "            y.append(ix)\n",
    "            #print(''.join(itos[i] for i in context),'---->',itos[ix])\n",
    "            context=context[1:]+[ix]\n",
    "\n",
    "    x=torch.tensor(x)\n",
    "    y=torch.tensor(y)\n",
    "\n",
    "    return x,y  \n",
    "\n",
    "import random \n",
    "random.seed(32)\n",
    "random.shuffle(words)\n",
    "n1=int(0.8*len(words))\n",
    "n2=int(0.9*len(words))\n",
    "\n",
    "xtr,ytr=create_dataset(words[:n1])\n",
    "xdev,ydev=create_dataset(words[n1:n2])\n",
    "xte,yte=create_dataset(words[n2:])"
   ]
  },
  {
   "cell_type": "code",
   "execution_count": 11,
   "metadata": {},
   "outputs": [
    {
     "name": "stdout",
     "output_type": "stream",
     "text": [
      "11724\n"
     ]
    }
   ],
   "source": [
    "n_emb=10\n",
    "n_hidden=200\n",
    "\n",
    "\n",
    "g=torch.Generator().manual_seed(2147483647)\n",
    "c=torch.randn((27,n_emb),generator=g)\n",
    "w1=torch.randn((n_emb*block_size,n_hidden),generator=g)\n",
    "b1=torch.randn((n_hidden,),generator=g)\n",
    "w2=torch.randn((n_hidden,vocab_size),generator=g)\n",
    "b2=torch.randn((vocab_size,),generator=g)\n",
    "parameters=[c,w1,b2,w2,b2]\n",
    "print(sum(p.nelement() for p in parameters))\n",
    "for i in parameters:\n",
    "    i.requires_grad=True"
   ]
  },
  {
   "cell_type": "code",
   "execution_count": 13,
   "metadata": {},
   "outputs": [
    {
     "name": "stdout",
     "output_type": "stream",
     "text": [
      "      0/ 200000:28.566628\n",
      "  10000/ 200000:2.923568\n",
      "  20000/ 200000:2.517647\n",
      "  30000/ 200000:2.045563\n",
      "  40000/ 200000:3.074094\n",
      "  50000/ 200000:2.270838\n",
      "  60000/ 200000:2.369227\n",
      "  70000/ 200000:2.328539\n",
      "  80000/ 200000:2.223988\n",
      "  90000/ 200000:2.308862\n",
      " 100000/ 200000:1.990997\n",
      " 110000/ 200000:2.083325\n",
      " 120000/ 200000:2.235340\n",
      " 130000/ 200000:2.209970\n",
      " 140000/ 200000:2.208609\n",
      " 150000/ 200000:2.467054\n",
      " 160000/ 200000:2.222713\n",
      " 170000/ 200000:1.908477\n",
      " 180000/ 200000:2.235825\n",
      " 190000/ 200000:1.816004\n"
     ]
    }
   ],
   "source": [
    "max_steps=200000\n",
    "batch_size=32\n",
    "lossi=[]\n",
    "for i in range(max_steps):\n",
    "    ix=torch.randint(0,xtr.shape[0],(batch_size,),generator=g)\n",
    "    xb,yb=xtr[ix],ytr[ix]\n",
    "\n",
    "    emb=c[xb]\n",
    "    embcat=emb.view(emb.shape[0],-1)\n",
    "    hpreact=embcat@w1+b1 \n",
    "    h=torch.tanh(hpreact)\n",
    "    logits=h@w2+b2 \n",
    "    loss=F.cross_entropy(logits,yb)\n",
    "\n",
    "    for p in parameters:\n",
    "        p.grad=None \n",
    "    loss.backward()\n",
    "\n",
    "    lr=0.1 if i<100000 else 0.01\n",
    "    for p in parameters:\n",
    "        p.data+=-lr*p.grad \n",
    "    \n",
    "    if i %10000==0:\n",
    "        print(f\"{i:7d}/{max_steps:7d}:{loss.item():4f}\")\n",
    "    lossi.append(loss.log10().item())"
   ]
  },
  {
   "cell_type": "code",
   "execution_count": 15,
   "metadata": {},
   "outputs": [
    {
     "data": {
      "text/plain": [
       "[<matplotlib.lines.Line2D at 0x722d35c74370>]"
      ]
     },
     "execution_count": 15,
     "metadata": {},
     "output_type": "execute_result"
    },
    {
     "data": {
      "image/png": "[encoded data removed]",
      "text/plain": [
       "<Figure size 640x480 with 1 Axes>"
      ]
     },
     "metadata": {},
     "output_type": "display_data"
    }
   ],
   "source": [
    "plt.plot(lossi)"
   ]
  },
  {
   "cell_type": "code",
   "execution_count": 16,
   "metadata": {},
   "outputs": [
    {
     "name": "stdout",
     "output_type": "stream",
     "text": [
      "train 2.1216323375701904\n",
      "val 2.1717443466186523\n"
     ]
    }
   ],
   "source": [
    "@torch.no_grad()\n",
    "def split_loss(split):\n",
    "    x,y={\n",
    "        'train':(xtr,ytr),\n",
    "        'val':(xdev,ydev),\n",
    "        'test':(xte,yte),\n",
    "    }[split]\n",
    "    emb=c[x]\n",
    "    embcat=emb.view(emb.shape[0],-1)\n",
    "    h=torch.tanh(embcat@w1+b1)\n",
    "    logits=h@w2+b2 \n",
    "    loss=F.cross_entropy(logits,y)\n",
    "    print(split,loss.item())\n",
    "\n",
    "split_loss(\"train\")\n",
    "split_loss(\"val\")"
   ]
  },
  {
   "cell_type": "code",
   "execution_count": 23,
   "metadata": {},
   "outputs": [
    {
     "name": "stdout",
     "output_type": "stream",
     "text": [
      "junide.\n",
      "jakarie.\n",
      "presty.\n",
      "adna.\n",
      "kaileitoliva.\n",
      "julem.\n",
      "damela.\n",
      "yanilena.\n",
      "jadeyaileti.\n",
      "tayseoniely.\n",
      "arten.\n",
      "aveumahyfortume.\n",
      "phyn.\n",
      "leigh.\n",
      "ani.\n",
      "core.\n",
      "yarion.\n",
      "kaelandreer.\n",
      "miki.\n",
      "wyn.\n"
     ]
    }
   ],
   "source": [
    "g=torch.Generator().manual_seed(2147483647)\n",
    "\n",
    "for _ in range(20):\n",
    "    out=[]\n",
    "    context=[0]*block_size \n",
    "    \n",
    "    while True:\n",
    "        emb=c[torch.tensor([context])]\n",
    "        h=torch.tanh(emb.view(1,-1)@w1+b1)\n",
    "        logits=h@w2+b2 \n",
    "        probs=F.softmax(logits,dim=1)\n",
    "\n",
    "        ix = torch.multinomial(probs,num_samples=1,generator=g).item()\n",
    "\n",
    "        context=context[1:]+[ix]\n",
    "        out.append(ix)\n",
    "        if ix==0:\n",
    "            break \n",
    "    print(''.join(itos[i] for i in out))"
   ]
  },
  {
   "cell_type": "code",
   "execution_count": 20,
   "metadata": {},
   "outputs": [
    {
     "data": {
      "text/plain": [
       "tensor([[ 1.6836,  0.7068,  0.5450, -0.7304,  0.8623,  0.1975, -1.3893,  0.7920,\n",
       "          0.1706,  1.4070],\n",
       "        [ 1.6836,  0.7068,  0.5450, -0.7304,  0.8623,  0.1975, -1.3893,  0.7920,\n",
       "          0.1706,  1.4070],\n",
       "        [ 1.6836,  0.7068,  0.5450, -0.7304,  0.8623,  0.1975, -1.3893,  0.7920,\n",
       "          0.1706,  1.4070]], grad_fn=<IndexBackward0>)"
      ]
     },
     "execution_count": 20,
     "metadata": {},
     "output_type": "execute_result"
    }
   ],
   "source": []
  },
  {
   "cell_type": "code",
   "execution_count": 21,
   "metadata": {},
   "outputs": [
    {
     "data": {
      "text/plain": [
       "tensor([[ 1.6836,  0.7068,  0.5450, -0.7304,  0.8623,  0.1975, -1.3893,  0.7920,\n",
       "          0.1706,  1.4070],\n",
       "        [ 1.6836,  0.7068,  0.5450, -0.7304,  0.8623,  0.1975, -1.3893,  0.7920,\n",
       "          0.1706,  1.4070],\n",
       "        [ 1.6836,  0.7068,  0.5450, -0.7304,  0.8623,  0.1975, -1.3893,  0.7920,\n",
       "          0.1706,  1.4070]], grad_fn=<IndexBackward0>)"
      ]
     },
     "execution_count": 21,
     "metadata": {},
     "output_type": "execute_result"
    }
   ],
   "source": []
  }
 ],
 "metadata": {
  "kernelspec": {
   "display_name": "ml",
   "language": "python",
   "name": "python3"
  },
  "language_info": {
   "codemirror_mode": {
    "name": "ipython",
    "version": 3
   },
   "file_extension": ".py",
   "mimetype": "text/x-python",
   "name": "python",
   "nbconvert_exporter": "python",
   "pygments_lexer": "ipython3",
   "version": "3.10.13"
  }
 },
 "nbformat": 4,
 "nbformat_minor": 2
}
