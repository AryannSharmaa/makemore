{
 "cells": [
  {
   "cell_type": "code",
   "execution_count": 1,
   "metadata": {},
   "outputs": [],
   "source": [
    "import torch\n",
    "import torch.nn.functional as F \n",
    "import matplotlib.pyplot as plt \n",
    "%matplotlib inline"
   ]
  },
  {
   "cell_type": "code",
   "execution_count": 2,
   "metadata": {},
   "outputs": [],
   "source": [
    "words=open(\"names.txt\",'r').read().splitlines()"
   ]
  },
  {
   "cell_type": "code",
   "execution_count": 3,
   "metadata": {},
   "outputs": [
    {
     "name": "stdout",
     "output_type": "stream",
     "text": [
      "27\n",
      "{1: 'a', 2: 'b', 3: 'c', 4: 'd', 5: 'e', 6: 'f', 7: 'g', 8: 'h', 9: 'i', 10: 'j', 11: 'k', 12: 'l', 13: 'm', 14: 'n', 15: 'o', 16: 'p', 17: 'q', 18: 'r', 19: 's', 20: 't', 21: 'u', 22: 'v', 23: 'w', 24: 'x', 25: 'y', 26: 'z', 0: '.'}\n"
     ]
    }
   ],
   "source": [
    "chars=sorted(list(set(''.join(words))))   \n",
    "stoi={s: i+1 for i,s in enumerate(chars)}\n",
    "stoi['.']=0\n",
    "itos={i:s for s,i in stoi.items()}\n",
    "vocab_size=len(itos)\n",
    "print(vocab_size)\n",
    "print(itos)"
   ]
  },
  {
   "cell_type": "code",
   "execution_count": 4,
   "metadata": {},
   "outputs": [],
   "source": [
    "block_size=3\n",
    "def create_dataset(words):\n",
    "    \n",
    "    x,y=[],[]\n",
    "    for w in words:\n",
    "        context=[0]*block_size\n",
    "        for ch in w+'.':\n",
    "            ix=stoi[ch]\n",
    "            x.append(context)\n",
    "            y.append(ix)\n",
    "            #print(''.join(itos[i] for i in context),'---->',itos[ix])\n",
    "            context=context[1:]+[ix]\n",
    "\n",
    "    x=torch.tensor(x)\n",
    "    y=torch.tensor(y)\n",
    "\n",
    "    return x,y  \n",
    "\n",
    "import random \n",
    "random.seed(32)\n",
    "random.shuffle(words)\n",
    "n1=int(0.8*len(words))\n",
    "n2=int(0.9*len(words))\n",
    "\n",
    "xtr,ytr=create_dataset(words[:n1])\n",
    "xdev,ydev=create_dataset(words[n1:n2])\n",
    "xte,yte=create_dataset(words[n2:])"
   ]
  },
  {
   "cell_type": "code",
   "execution_count": 192,
   "metadata": {},
   "outputs": [
    {
     "name": "stdout",
     "output_type": "stream",
     "text": [
      "12124\n"
     ]
    }
   ],
   "source": [
    "n_emb=10\n",
    "n_hidden=200\n",
    "\n",
    "\n",
    "g=torch.Generator().manual_seed(2147483647)\n",
    "c=torch.randn((27,n_emb),generator=g)\n",
    "w1=torch.randn((n_emb*block_size,n_hidden),generator=g)*0.2\n",
    "b1=torch.randn((n_hidden,),generator=g) *0.01\n",
    "w2=torch.randn((n_hidden,vocab_size),generator=g)*0.01\n",
    "b2=torch.randn((vocab_size,),generator=g)*0\n",
    "\n",
    "bngain=torch.ones((1,n_hidden))\n",
    "bnbias=torch.zeros((1,n_hidden))\n",
    "bnmean_running=torch.zeros((1,n_hidden))\n",
    "bnstd_running=torch.ones((1,n_hidden))\n",
    "parameters=[c,w1,b2,w2,b2,bnbias,bngain]\n",
    "print(sum(p.nelement() for p in parameters))\n",
    "for i in parameters:\n",
    "    i.requires_grad=True"
   ]
  },
  {
   "cell_type": "code",
   "execution_count": 203,
   "metadata": {},
   "outputs": [
    {
     "name": "stdout",
     "output_type": "stream",
     "text": [
      "      0/ 200000:2.447564\n",
      "  10000/ 200000:2.203615\n",
      "  20000/ 200000:2.169255\n",
      "  30000/ 200000:2.075413\n",
      "  40000/ 200000:2.159444\n",
      "  50000/ 200000:2.208492\n",
      "  60000/ 200000:2.008277\n",
      "  70000/ 200000:1.917105\n",
      "  80000/ 200000:2.491738\n",
      "  90000/ 200000:1.664827\n",
      " 100000/ 200000:1.966994\n",
      " 110000/ 200000:1.950982\n",
      " 120000/ 200000:1.881359\n",
      " 130000/ 200000:2.301716\n",
      " 140000/ 200000:1.905667\n",
      " 150000/ 200000:2.520334\n",
      " 160000/ 200000:2.199930\n",
      " 170000/ 200000:2.043748\n",
      " 180000/ 200000:2.403672\n",
      " 190000/ 200000:1.840428\n"
     ]
    }
   ],
   "source": [
    "max_steps=200000\n",
    "batch_size=32\n",
    "lossi=[]\n",
    "for i in range(max_steps):\n",
    "    ix=torch.randint(0,xtr.shape[0],(batch_size,),generator=g)\n",
    "    xb,yb=xtr[ix],ytr[ix]\n",
    "\n",
    "    emb=c[xb]\n",
    "    embcat=emb.view(emb.shape[0],-1)\n",
    "    hpreact=embcat@w1#+b1 \n",
    "    bnmeani=hpreact.mean(0,keepdim=True)\n",
    "    bnstdi=hpreact.std(0,keepdim=True)\n",
    "    hpreact=bngain*(hpreact-bnmeani)/bnstdi+bnbias\n",
    "\n",
    "    with torch.no_grad():\n",
    "        bnmean_running=0.999*bnmean_running+0.001*bnmeani\n",
    "        bnstd_running=0.999*bnstd_running+0.001*bnstdi \n",
    "\n",
    "    h=torch.tanh(hpreact)\n",
    "    logits=h@w2+b2 \n",
    "    loss=F.cross_entropy(logits,yb)\n",
    "\n",
    "    for p in parameters:\n",
    "        p.grad=None \n",
    "    loss.backward()\n",
    "\n",
    "    lr=0.1 if i<100000 else 0.01\n",
    "    for p in parameters:\n",
    "        p.data+=-lr*p.grad \n",
    "    \n",
    "    if i %10000==0:\n",
    "        print(f\"{i:7d}/{max_steps:7d}:{loss.item():4f}\")\n",
    "    lossi.append(loss.log10().item())\n",
    "    \n",
    "    "
   ]
  },
  {
   "cell_type": "code",
   "execution_count": 189,
   "metadata": {},
   "outputs": [
    {
     "data": {
      "text/plain": [
       "torch.Size([32, 3])"
      ]
     },
     "execution_count": 189,
     "metadata": {},
     "output_type": "execute_result"
    }
   ],
   "source": [
    "xb.shape"
   ]
  },
  {
   "cell_type": "code",
   "execution_count": 190,
   "metadata": {},
   "outputs": [
    {
     "data": {
      "text/plain": [
       "torch.Size([1, 3, 10])"
      ]
     },
     "execution_count": 190,
     "metadata": {},
     "output_type": "execute_result"
    }
   ],
   "source": [
    "emb.shape"
   ]
  },
  {
   "cell_type": "code",
   "execution_count": 188,
   "metadata": {},
   "outputs": [
    {
     "data": {
      "text/plain": [
       "torch.Size([1, 30])"
      ]
     },
     "execution_count": 188,
     "metadata": {},
     "output_type": "execute_result"
    }
   ],
   "source": [
    "embcat.shape"
   ]
  },
  {
   "cell_type": "code",
   "execution_count": 159,
   "metadata": {},
   "outputs": [
    {
     "data": {
      "text/plain": [
       "tensor([[ 0.1190, -0.5144, -1.1409, -2.1459,  0.4369,  0.1882,  1.5173,  0.2643,\n",
       "          0.6129,  1.7643],\n",
       "        [ 0.0522,  1.2470,  0.4261, -2.0220,  0.4723, -0.3381,  0.5069,  1.0234,\n",
       "         -0.3265, -1.6662],\n",
       "        [-1.5507,  0.4345, -0.7336, -0.9881,  1.0594, -0.1270,  0.9475, -1.1667,\n",
       "         -0.2254,  1.5909]], grad_fn=<SelectBackward0>)"
      ]
     },
     "execution_count": 159,
     "metadata": {},
     "output_type": "execute_result"
    }
   ],
   "source": [
    "emb[1]"
   ]
  },
  {
   "cell_type": "code",
   "execution_count": 187,
   "metadata": {},
   "outputs": [
    {
     "data": {
      "text/plain": [
       "torch.Size([1, 200])"
      ]
     },
     "execution_count": 187,
     "metadata": {},
     "output_type": "execute_result"
    }
   ],
   "source": []
  },
  {
   "cell_type": "code",
   "execution_count": 176,
   "metadata": {},
   "outputs": [
    {
     "data": {
      "text/plain": [
       "torch.Size([1, 200])"
      ]
     },
     "execution_count": 176,
     "metadata": {},
     "output_type": "execute_result"
    }
   ],
   "source": [
    "hpreact.mean(0,keepdim=True).shape"
   ]
  },
  {
   "cell_type": "code",
   "execution_count": 127,
   "metadata": {},
   "outputs": [
    {
     "data": {
      "text/plain": [
       "tensor(-1.2598, grad_fn=<MeanBackward0>)"
      ]
     },
     "execution_count": 127,
     "metadata": {},
     "output_type": "execute_result"
    }
   ],
   "source": [
    "hpreact[:,0].mean()"
   ]
  },
  {
   "cell_type": "code",
   "execution_count": 55,
   "metadata": {},
   "outputs": [
    {
     "data": {
      "text/plain": [
       "<matplotlib.image.AxesImage at 0x72084093e3b0>"
      ]
     },
     "execution_count": 55,
     "metadata": {},
     "output_type": "execute_result"
    },
    {
     "data": {
      "image/png": "[encoded data removed]",
      "text/plain": [
       "<Figure size 2000x1000 with 1 Axes>"
      ]
     },
     "metadata": {},
     "output_type": "display_data"
    }
   ],
   "source": [
    "plt.figure(figsize=(20,10))\n",
    "plt.imshow(h.abs()>0.99,cmap='gray',interpolation='nearest')\n"
   ]
  },
  {
   "cell_type": "code",
   "execution_count": 56,
   "metadata": {},
   "outputs": [
    {
     "data": {
      "text/plain": [
       "(array([  1.,   0.,   2.,   4.,   4.,   2.,   8.,  10.,  17.,  20.,  37.,\n",
       "         47.,  55.,  74., 100., 144., 164., 213., 233., 307., 325., 394.,\n",
       "        367., 440., 412., 417., 361., 360., 333., 321., 292., 213., 167.,\n",
       "        153., 106.,  86.,  67.,  38.,  40.,  13.,  19.,  10.,   8.,  10.,\n",
       "          3.,   1.,   0.,   0.,   0.,   2.]),\n",
       " array([-4.19595051, -4.02230186, -3.8486532 , -3.67500455, -3.5013559 ,\n",
       "        -3.32770724, -3.15405859, -2.98040994, -2.80676128, -2.63311263,\n",
       "        -2.45946398, -2.28581532, -2.11216667, -1.93851802, -1.76486937,\n",
       "        -1.59122071, -1.41757206, -1.24392341, -1.07027475, -0.8966261 ,\n",
       "        -0.72297745, -0.54932879, -0.37568014, -0.20203149, -0.02838284,\n",
       "         0.14526582,  0.31891447,  0.49256312,  0.66621178,  0.83986043,\n",
       "         1.01350908,  1.18715774,  1.36080639,  1.53445504,  1.70810369,\n",
       "         1.88175235,  2.055401  ,  2.22904965,  2.40269831,  2.57634696,\n",
       "         2.74999561,  2.92364427,  3.09729292,  3.27094157,  3.44459023,\n",
       "         3.61823888,  3.79188753,  3.96553618,  4.13918484,  4.31283349,\n",
       "         4.48648214]),\n",
       " <BarContainer object of 50 artists>)"
      ]
     },
     "execution_count": 56,
     "metadata": {},
     "output_type": "execute_result"
    },
    {
     "data": {
      "image/png": "[encoded data removed]",
      "text/plain": [
       "<Figure size 640x480 with 1 Axes>"
      ]
     },
     "metadata": {},
     "output_type": "display_data"
    }
   ],
   "source": [
    "(plt.hist(hpreact.view(-1).tolist(),50))"
   ]
  },
  {
   "cell_type": "code",
   "execution_count": 51,
   "metadata": {},
   "outputs": [
    {
     "data": {
      "text/plain": [
       "(array([ 11.,  15.,  34.,  47.,  65.,  53.,  76.,  99., 108.,  96., 136.,\n",
       "        128., 133., 114., 154., 171., 154., 171., 180., 196., 145., 200.,\n",
       "        191., 171., 212., 176., 178., 192., 184., 169., 184., 177., 164.,\n",
       "        192., 157., 176., 177., 165., 174., 139., 112., 128., 123.,  88.,\n",
       "         96.,  67.,  57.,  33.,  27.,   5.]),\n",
       " array([-0.97051972, -0.93155138, -0.89258303, -0.85361469, -0.81464635,\n",
       "        -0.775678  , -0.73670966, -0.69774132, -0.65877297, -0.61980463,\n",
       "        -0.58083628, -0.54186794, -0.5028996 , -0.46393125, -0.42496291,\n",
       "        -0.38599457, -0.34702622, -0.30805788, -0.26908953, -0.23012119,\n",
       "        -0.19115285, -0.1521845 , -0.11321616, -0.07424782, -0.03527947,\n",
       "         0.00368887,  0.04265722,  0.08162556,  0.1205939 ,  0.15956225,\n",
       "         0.19853059,  0.23749893,  0.27646728,  0.31543562,  0.35440397,\n",
       "         0.39337231,  0.43234065,  0.471309  ,  0.51027734,  0.54924568,\n",
       "         0.58821403,  0.62718237,  0.66615072,  0.70511906,  0.7440874 ,\n",
       "         0.78305575,  0.82202409,  0.86099243,  0.89996078,  0.93892912,\n",
       "         0.97789747]),\n",
       " <BarContainer object of 50 artists>)"
      ]
     },
     "execution_count": 51,
     "metadata": {},
     "output_type": "execute_result"
    },
    {
     "data": {
      "image/png": "[encoded data removed]",
      "text/plain": [
       "<Figure size 640x480 with 1 Axes>"
      ]
     },
     "metadata": {},
     "output_type": "display_data"
    }
   ],
   "source": [
    "(plt.hist(h.view(-1).tolist(),50))"
   ]
  },
  {
   "cell_type": "code",
   "execution_count": 42,
   "metadata": {},
   "outputs": [
    {
     "data": {
      "text/plain": [
       "tensor(-0.2369)"
      ]
     },
     "execution_count": 42,
     "metadata": {},
     "output_type": "execute_result"
    }
   ],
   "source": [
    "logit=torch.tensor([1.0,2.0,3.0,4.0])\n",
    "prob=torch.softmax(logit,dim=0)\n",
    "loss=-prob"
   ]
  },
  {
   "cell_type": "code",
   "execution_count": 130,
   "metadata": {},
   "outputs": [
    {
     "data": {
      "text/plain": [
       "[<matplotlib.lines.Line2D at 0x7208276ec070>]"
      ]
     },
     "execution_count": 130,
     "metadata": {},
     "output_type": "execute_result"
    },
    {
     "data": {
      "image/png": "[encoded data removed]",
      "text/plain": [
       "<Figure size 640x480 with 1 Axes>"
      ]
     },
     "metadata": {},
     "output_type": "display_data"
    }
   ],
   "source": [
    "plt.plot(lossi)"
   ]
  },
  {
   "cell_type": "code",
   "execution_count": 177,
   "metadata": {},
   "outputs": [
    {
     "data": {
      "text/plain": [
       "torch.Size([32, 3, 10])"
      ]
     },
     "execution_count": 177,
     "metadata": {},
     "output_type": "execute_result"
    }
   ],
   "source": []
  },
  {
   "cell_type": "code",
   "execution_count": 195,
   "metadata": {},
   "outputs": [],
   "source": [
    "with torch.no_grad():\n",
    "    emb=c[xtr]\n",
    "    embcat=emb.view(emb.shape[0],-1)\n",
    "    hpreact=embcat@w1#+b1\n",
    "    bnmean=hpreact.mean(0,keepdim=True)\n",
    "    bnstd=hpreact.std(0,keepdim=True) "
   ]
  },
  {
   "cell_type": "code",
   "execution_count": 204,
   "metadata": {},
   "outputs": [
    {
     "name": "stdout",
     "output_type": "stream",
     "text": [
      "train 2.048114061355591\n",
      "val 2.0936617851257324\n"
     ]
    }
   ],
   "source": [
    "@torch.no_grad()\n",
    "def split_loss(split):\n",
    "    x,y={\n",
    "        'train':(xtr,ytr),\n",
    "        'val':(xdev,ydev),\n",
    "        'test':(xte,yte),\n",
    "    }[split]\n",
    "    emb=c[x]\n",
    "    embcat=emb.view(emb.shape[0],-1)\n",
    "    hpreact=embcat@w1#+b1 \n",
    "    hpreact=bngain*(hpreact-bnmean_running)/bnstd_running+bnbias\n",
    "    h=torch.tanh(hpreact)\n",
    "    logits=h@w2+b2 \n",
    "    loss=F.cross_entropy(logits,y)\n",
    "    print(split,loss.item())\n",
    "\n",
    "split_loss(\"train\")\n",
    "split_loss(\"val\")"
   ]
  },
  {
   "cell_type": "code",
   "execution_count": 1,
   "metadata": {},
   "outputs": [
    {
     "ename": "NameError",
     "evalue": "name 'torch' is not defined",
     "output_type": "error",
     "traceback": [
      "\u001b[0;31m---------------------------------------------------------------------------\u001b[0m",
      "\u001b[0;31mNameError\u001b[0m                                 Traceback (most recent call last)",
      "Cell \u001b[0;32mIn[1], line 1\u001b[0m\n\u001b[0;32m----> 1\u001b[0m g\u001b[38;5;241m=\u001b[39m\u001b[43mtorch\u001b[49m\u001b[38;5;241m.\u001b[39mGenerator()\u001b[38;5;241m.\u001b[39mmanual_seed(\u001b[38;5;241m2147483647\u001b[39m\u001b[38;5;241m+\u001b[39m\u001b[38;5;241m2\u001b[39m)\n\u001b[1;32m      3\u001b[0m \u001b[38;5;28;01mfor\u001b[39;00m _ \u001b[38;5;129;01min\u001b[39;00m \u001b[38;5;28mrange\u001b[39m(\u001b[38;5;241m20\u001b[39m):\n\u001b[1;32m      4\u001b[0m     out\u001b[38;5;241m=\u001b[39m[]\n",
      "\u001b[0;31mNameError\u001b[0m: name 'torch' is not defined"
     ]
    }
   ],
   "source": [
    "g=torch.Generator().manual_seed(2147483647+2)\n",
    "\n",
    "for _ in range(20):\n",
    "    out=[]\n",
    "    context=[0]*block_size\n",
    "    \n",
    "    while True:\n",
    "        emb=c[torch.tensor([context])]\n",
    "        embcat=emb.view(emb.shape[0],-1)\n",
    "        hpreact=embcat@w1#+b1 \n",
    "        hpreact=bngain*(hpreact-bnmean_running)/bnstd_running+bnbias\n",
    "        h=torch.tanh(hpreact)\n",
    "        # h=torch.tanh(emb.view(1,-1)@w1+b1)\n",
    "        logits=h@w2+b2 \n",
    "        probs=F.softmax(logits,dim=1)\n",
    "\n",
    "        ix = torch.multinomial(probs,num_samples=1,generator=g).item()\n",
    "\n",
    "        context=context[1:]+[ix]\n",
    "        out.append(ix)\n",
    "        if ix==0:\n",
    "            break \n",
    "    print((''.join(itos[i] for i in out)))"
   ]
  },
  {
   "cell_type": "code",
   "execution_count": null,
   "metadata": {},
   "outputs": [],
   "source": []
  },
  {
   "cell_type": "code",
   "execution_count": 113,
   "metadata": {},
   "outputs": [
    {
     "name": "stdout",
     "output_type": "stream",
     "text": [
      "[tensor(-0.0065), tensor(0.9985)]\n",
      "[tensor(0.0007), tensor(1.0008)]\n"
     ]
    },
    {
     "data": {
      "text/plain": [
       "(array([2.33403821e-05, 0.00000000e+00, 2.33403821e-05, 2.33403821e-05,\n",
       "        1.16701910e-04, 1.86723056e-04, 3.26764621e-04, 6.76871833e-04,\n",
       "        9.80296046e-04, 1.75052671e-03, 2.80084585e-03, 4.45801297e-03,\n",
       "        7.11881653e-03, 1.08299373e-02, 1.72018616e-02, 2.67480481e-02,\n",
       "        4.03788610e-02, 5.76507437e-02, 8.59626271e-02, 1.19012608e-01,\n",
       "        1.61071887e-01, 2.11557223e-01, 2.71121803e-01, 3.31806871e-01,\n",
       "        3.83389009e-01, 4.18773077e-01, 4.28972822e-01, 4.16555712e-01,\n",
       "        3.71392056e-01, 3.20230042e-01, 2.66920535e-01, 2.00050415e-01,\n",
       "        1.53252863e-01, 1.15534891e-01, 7.94740009e-02, 5.46398040e-02,\n",
       "        3.78814401e-02, 2.53476549e-02, 1.68050751e-02, 1.00363643e-02,\n",
       "        6.67534184e-03, 3.80448228e-03, 2.45074012e-03, 1.84389018e-03,\n",
       "        1.02697681e-03, 4.43466765e-04, 3.50105731e-04, 2.33403821e-04,\n",
       "        1.16701910e-04, 4.66807641e-05]),\n",
       " array([-5.65927887, -5.44505787, -5.23083687, -5.01661587, -4.80239487,\n",
       "        -4.58817387, -4.37395287, -4.15973139, -3.94551063, -3.73128963,\n",
       "        -3.51706839, -3.30284739, -3.08862638, -2.87440538, -2.66018438,\n",
       "        -2.44596338, -2.23174214, -2.01752114, -1.80330014, -1.58907914,\n",
       "        -1.37485814, -1.16063702, -0.94641602, -0.73219496, -0.51797396,\n",
       "        -0.3037529 , -0.08953186,  0.12468918,  0.33891022,  0.55313128,\n",
       "         0.76735228,  0.98157334,  1.19579434,  1.41001546,  1.62423646,\n",
       "         1.83845747,  2.05267859,  2.26689959,  2.48112059,  2.69534159,\n",
       "         2.90956259,  3.12378383,  3.33800483,  3.55222583,  3.76644683,\n",
       "         3.98066783,  4.19488907,  4.40911007,  4.62333107,  4.83755207,\n",
       "         5.05177307]),\n",
       " <BarContainer object of 50 artists>)"
      ]
     },
     "execution_count": 113,
     "metadata": {},
     "output_type": "execute_result"
    },
    {
     "data": {
      "image/png": "[encoded data removed]",
      "text/plain": [
       "<Figure size 2000x500 with 2 Axes>"
      ]
     },
     "metadata": {},
     "output_type": "display_data"
    }
   ],
   "source": [
    "xrand=torch.randn(1000,10)\n",
    "wrand=torch.randn(10,200)\n",
    "yrand=xrand@wrand/10**0.5\n",
    "print([xrand.mean(),xrand.std()])\n",
    "print([yrand.mean(),yrand.std()])\n",
    "plt.figure(figsize=(20,5))\n",
    "plt.subplot(121)\n",
    "plt.hist(xrand.view(-1).tolist(),50,density=True)\n",
    "plt.subplot(122)\n",
    "plt.hist(yrand.view(-1),50,density=True)\n"
   ]
  },
  {
   "cell_type": "code",
   "execution_count": null,
   "metadata": {},
   "outputs": [],
   "source": []
  }
 ],
 "metadata": {
  "kernelspec": {
   "display_name": "ml",
   "language": "python",
   "name": "python3"
  },
  "language_info": {
   "codemirror_mode": {
    "name": "ipython",
    "version": 3
   },
   "file_extension": ".py",
   "mimetype": "text/x-python",
   "name": "python",
   "nbconvert_exporter": "python",
   "pygments_lexer": "ipython3",
   "version": "3.10.13"
  }
 },
 "nbformat": 4,
 "nbformat_minor": 2
}
